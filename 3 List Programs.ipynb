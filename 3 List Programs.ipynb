{
 "cells": [
  {
   "cell_type": "markdown",
   "metadata": {},
   "source": [
    "#  1 Python program to interchange first and last elements in a list"
   ]
  },
  {
   "cell_type": "code",
   "execution_count": 4,
   "metadata": {},
   "outputs": [
    {
     "name": "stdout",
     "output_type": "stream",
     "text": [
      "Enetr Elements with space:1 2 3 4 5 6 7 8 9\n",
      "['9', '2', '3', '4', '5', '6', '7', '8', '1']\n"
     ]
    }
   ],
   "source": [
    "inp=input('Enetr Elements with space:')\n",
    "lst=inp.split()\n",
    "lst[0],lst[-1]=lst[-1],lst[0]\n",
    "print(lst)"
   ]
  },
  {
   "cell_type": "code",
   "execution_count": 5,
   "metadata": {},
   "outputs": [
    {
     "name": "stdout",
     "output_type": "stream",
     "text": [
      "Enetr List Elements with  space:seshu sai babu\n"
     ]
    },
    {
     "data": {
      "text/plain": [
       "['babu', 'sai', 'seshu']"
      ]
     },
     "execution_count": 5,
     "metadata": {},
     "output_type": "execute_result"
    }
   ],
   "source": [
    "def lst1(lst):\n",
    "    lst[0],lst[-1]=lst[-1],lst[0]\n",
    "    return lst\n",
    "\n",
    "inp=input('Enetr List Elements with  space:')\n",
    "lst=inp.split()\n",
    "lst1(lst)"
   ]
  },
  {
   "cell_type": "markdown",
   "metadata": {},
   "source": [
    "# 2 Python program to swap two elements in a list"
   ]
  },
  {
   "cell_type": "code",
   "execution_count": 29,
   "metadata": {},
   "outputs": [
    {
     "name": "stdout",
     "output_type": "stream",
     "text": [
      "ENetr 1st position:6\n",
      "Enetr 2nd position:4\n",
      "[23, 65, 19, 3, 2, 90, 4]\n"
     ]
    }
   ],
   "source": [
    "def swapPositions(list, pos1, pos2): \n",
    "      \n",
    "    list[pos1], list[pos2] = list[pos2], list[pos1] \n",
    "    return list\n",
    "List = [23, 65, 19, 90,2,3,4] \n",
    "pos1 =int(input('ENetr 1st position:'))\n",
    "pos2=int(input('Enetr 2nd position:'))\n",
    "print(swapPositions(List, pos1-1, pos2-1)) "
   ]
  },
  {
   "cell_type": "markdown",
   "metadata": {},
   "source": [
    "# 3 Python program to remove Nth occurrence of the given word"
   ]
  },
  {
   "cell_type": "code",
   "execution_count": 42,
   "metadata": {},
   "outputs": [
    {
     "name": "stdout",
     "output_type": "stream",
     "text": [
      "Enter the position:2\n",
      "['can', 'you', 'a', 'can']\n"
     ]
    }
   ],
   "source": [
    "lst=[\"can\", \"you\",  \"can\", \"a\", \"can\"]\n",
    "ls=[]\n",
    "count=0\n",
    "N=int(input(\"Enter the position:\"))\n",
    "for i in lst:\n",
    "    if i=='can':\n",
    "        count+=1\n",
    "        if count!=N:\n",
    "            ls.append(i)\n",
    "    else:\n",
    "        ls.append(i)\n",
    "print(ls)"
   ]
  },
  {
   "cell_type": "markdown",
   "metadata": {},
   "source": [
    "#  4 Python | Ways to find length of list"
   ]
  },
  {
   "cell_type": "code",
   "execution_count": 46,
   "metadata": {},
   "outputs": [
    {
     "name": "stdout",
     "output_type": "stream",
     "text": [
      "Length of given list is: 7\n"
     ]
    }
   ],
   "source": [
    "# 1. By Using for loop\n",
    "test_list = [1,2,3,4,5,6,7] \n",
    "ls=0\n",
    "for i in test_list:\n",
    "    ls+=1\n",
    "print('Length of given list is:',ls)"
   ]
  },
  {
   "cell_type": "code",
   "execution_count": 47,
   "metadata": {},
   "outputs": [
    {
     "name": "stdout",
     "output_type": "stream",
     "text": [
      "Length of given list is 7\n"
     ]
    }
   ],
   "source": [
    "# 2. By using len()\n",
    "test_list = [1,2,3,4,5,6,7] \n",
    "print('Length of given list is',len(test_list))\n"
   ]
  },
  {
   "cell_type": "markdown",
   "metadata": {},
   "source": [
    "# 5 Python | Ways to check if element exists in list"
   ]
  },
  {
   "cell_type": "code",
   "execution_count": 78,
   "metadata": {},
   "outputs": [
    {
     "name": "stdout",
     "output_type": "stream",
     "text": [
      "Eneter element:6\n",
      "Yes exist\n"
     ]
    }
   ],
   "source": [
    "# By using member ship operator\n",
    "lst = [ 1, 6, 3, 5, 3, 4 ] \n",
    "ele=int(input('Eneter element:')) # for the int numbers only\n",
    "if ele in lst:\n",
    "    print(\"Yes exist\")"
   ]
  },
  {
   "cell_type": "code",
   "execution_count": 80,
   "metadata": {},
   "outputs": [
    {
     "name": "stdout",
     "output_type": "stream",
     "text": [
      "Eneter element:5\n",
      "Yes Eixst\n"
     ]
    }
   ],
   "source": [
    "# By Identity Operators\n",
    "lst = [ 1, 6, 3, 5, 3, 4 ] \n",
    "ele=int(input('Eneter element:')) # for the int numbers only\n",
    "for i in lst:\n",
    "    if i is ele:\n",
    "        print('Yes Eixst')\n"
   ]
  },
  {
   "cell_type": "code",
   "execution_count": 79,
   "metadata": {},
   "outputs": [
    {
     "name": "stdout",
     "output_type": "stream",
     "text": [
      "Eneter element:4\n",
      "Yes Eixst\n"
     ]
    }
   ],
   "source": [
    "# By using Comparison Operators\n",
    "lst = [ 1, 6, 3, 5, 3, 4 ] \n",
    "ele=int(input('Eneter element:')) # for the int numbers only\n",
    "for i in lst:\n",
    "    if i == ele:\n",
    "        print('Yes Eixst')"
   ]
  },
  {
   "cell_type": "markdown",
   "metadata": {},
   "source": [
    "#  6 Different ways to clear a list in Python"
   ]
  },
  {
   "cell_type": "code",
   "execution_count": 27,
   "metadata": {},
   "outputs": [
    {
     "name": "stdout",
     "output_type": "stream",
     "text": [
      "[]\n"
     ]
    }
   ],
   "source": [
    "# Method 1 : Using clear() method\n",
    "lst = [ 1, 6, 3, 5, 3, 4 ] \n",
    "lst.clear()\n",
    "print(lst)"
   ]
  },
  {
   "cell_type": "markdown",
   "metadata": {},
   "source": [
    "#  using remove "
   ]
  },
  {
   "cell_type": "code",
   "execution_count": 17,
   "metadata": {},
   "outputs": [
    {
     "data": {
      "text/plain": [
       "[]"
      ]
     },
     "execution_count": 17,
     "metadata": {},
     "output_type": "execute_result"
    }
   ],
   "source": [
    "# By usnig remove with the help of for loop\n",
    "lst = [11,12,13,14,15,16,17,18,19,20]\n",
    "ls=len(lst)\n",
    "\n",
    "for i in range(ls):\n",
    "    for i in lst:\n",
    "        lst.remove(i)\n",
    "lst"
   ]
  },
  {
   "cell_type": "code",
   "execution_count": 18,
   "metadata": {},
   "outputs": [
    {
     "data": {
      "text/plain": [
       "[]"
      ]
     },
     "execution_count": 18,
     "metadata": {},
     "output_type": "execute_result"
    }
   ],
   "source": [
    "lst = [11,12,13,14,15,16,17,18,19,20]\n",
    "\n",
    "for i in range(len(lst)):\n",
    "    for i in lst:\n",
    "        lst.remove(i)\n",
    "lst"
   ]
  },
  {
   "cell_type": "code",
   "execution_count": 26,
   "metadata": {},
   "outputs": [
    {
     "name": "stdout",
     "output_type": "stream",
     "text": [
      "[]\n"
     ]
    }
   ],
   "source": [
    "# By using Arithmetic Operator Multiplication \n",
    "lst=[1,2,3,4,5,6,7,8]\n",
    "lst*=0\n",
    "print(lst)"
   ]
  },
  {
   "cell_type": "markdown",
   "metadata": {},
   "source": [
    "# 7 Python | Reversing a List"
   ]
  },
  {
   "cell_type": "code",
   "execution_count": 28,
   "metadata": {},
   "outputs": [
    {
     "data": {
      "text/plain": [
       "[10, 11, 12, 13, 14, 15]"
      ]
     },
     "execution_count": 28,
     "metadata": {},
     "output_type": "execute_result"
    }
   ],
   "source": [
    "# By Using the slicing technique\n",
    "lst=[15, 14, 13, 12, 11, 10]\n",
    "lst[::-1]\n"
   ]
  },
  {
   "cell_type": "code",
   "execution_count": 30,
   "metadata": {},
   "outputs": [
    {
     "name": "stdout",
     "output_type": "stream",
     "text": [
      "[10, 11, 12, 13, 14, 15]\n"
     ]
    }
   ],
   "source": [
    "# By using reverse() built-in function\n",
    "lst=[15, 14, 13, 12, 11, 10]\n",
    "lst.reverse()\n",
    "print(lst)"
   ]
  },
  {
   "cell_type": "code",
   "execution_count": 45,
   "metadata": {},
   "outputs": [
    {
     "name": "stdout",
     "output_type": "stream",
     "text": [
      "[10, 11, 12, 13, 14, 15]\n"
     ]
    }
   ],
   "source": [
    "lst=[15, 14, 13, 12, 11, 10]\n",
    "ls=[]\n",
    "for i in lst[::-1]:\n",
    "    ls.append(i)\n",
    "print(ls)\n",
    "    "
   ]
  },
  {
   "cell_type": "markdown",
   "metadata": {},
   "source": [
    "# 8 Python | Cloning or Copying a list"
   ]
  },
  {
   "cell_type": "code",
   "execution_count": 49,
   "metadata": {},
   "outputs": [
    {
     "data": {
      "text/plain": [
       "[4, 8, 2, 10, 15, 18, 19, 20]"
      ]
     },
     "execution_count": 49,
     "metadata": {},
     "output_type": "execute_result"
    }
   ],
   "source": [
    "# By using copy method\n",
    "lst1 = [4, 8, 2, 10, 15, 18,19,20] \n",
    "lst2=lst1.copy()\n",
    "lst2"
   ]
  },
  {
   "cell_type": "code",
   "execution_count": 51,
   "metadata": {},
   "outputs": [],
   "source": [
    "# By using extend method\n",
    "lst=[1,2,3,4,5,6,7,8,9]\n",
    "ls=[]\n",
    "ls=ls.extend(ls)"
   ]
  },
  {
   "cell_type": "code",
   "execution_count": 50,
   "metadata": {},
   "outputs": [
    {
     "data": {
      "text/plain": [
       "[4, 8, 2, 10, 15, 18, 19, 20]"
      ]
     },
     "execution_count": 50,
     "metadata": {},
     "output_type": "execute_result"
    }
   ],
   "source": [
    "# By using for loop\n",
    "lst= [4, 8, 2, 10, 15, 18,19,20]\n",
    "ls=[]\n",
    "for  i in lst:\n",
    "    ls.append(i)\n",
    "ls"
   ]
  },
  {
   "cell_type": "markdown",
   "metadata": {},
   "source": [
    "#  9 Python | Count occurrences of an element in a list"
   ]
  },
  {
   "cell_type": "code",
   "execution_count": 1,
   "metadata": {},
   "outputs": [
    {
     "data": {
      "text/plain": [
       "3"
      ]
     },
     "execution_count": 1,
     "metadata": {},
     "output_type": "execute_result"
    }
   ],
   "source": [
    "# By Using Using count()\n",
    "lst = [15, 6, 7, 10, 12, 20, 10, 28, 10]\n",
    "lst.count(10)\n"
   ]
  },
  {
   "cell_type": "code",
   "execution_count": 5,
   "metadata": {},
   "outputs": [
    {
     "name": "stdout",
     "output_type": "stream",
     "text": [
      "Enter reqquired count ele in lst:15\n",
      "2\n"
     ]
    }
   ],
   "source": [
    "# By Using For loop\n",
    "lst = [15, 6, 7, 10, 12, 20, 10, 28, 10,15]\n",
    "ele=int(input('Enter reqquired count ele in lst:'))\n",
    "count=0\n",
    "for i in lst:\n",
    "    if i== ele:\n",
    "        count+=1\n",
    "print(count)\n",
    "        "
   ]
  },
  {
   "cell_type": "markdown",
   "metadata": {},
   "source": [
    "#  10 Python program to find sum of elements in list"
   ]
  },
  {
   "cell_type": "code",
   "execution_count": 6,
   "metadata": {},
   "outputs": [
    {
     "name": "stdout",
     "output_type": "stream",
     "text": [
      "45\n"
     ]
    }
   ],
   "source": [
    "# BY using for loop\n",
    "lst=[1,2,3,4,5,6,7,8,9]\n",
    "sum=0\n",
    "for i in lst:\n",
    "    sum+=i\n",
    "print(sum)"
   ]
  },
  {
   "cell_type": "code",
   "execution_count": 9,
   "metadata": {},
   "outputs": [
    {
     "name": "stdout",
     "output_type": "stream",
     "text": [
      "45\n"
     ]
    }
   ],
   "source": [
    "# by using while loop\n",
    "lst=[1,2,3,4,5,6,7,8,9]\n",
    "sum=0\n",
    "ele=0\n",
    "\n",
    "while(ele<len(lst)):\n",
    "    sum=sum+lst[ele]\n",
    "    ele+=1\n",
    "print(sum)\n"
   ]
  },
  {
   "cell_type": "code",
   "execution_count": 2,
   "metadata": {},
   "outputs": [
    {
     "name": "stdout",
     "output_type": "stream",
     "text": [
      "45\n"
     ]
    }
   ],
   "source": [
    "# By Using sum() method\n",
    "lst=[1,2,3,4,5,6,7,8,9]\n",
    "total= sum(lst)\n",
    "print(total)"
   ]
  },
  {
   "cell_type": "markdown",
   "metadata": {},
   "source": [
    "#  11 Multiply all numbers in the list "
   ]
  },
  {
   "cell_type": "code",
   "execution_count": 10,
   "metadata": {},
   "outputs": [
    {
     "name": "stdout",
     "output_type": "stream",
     "text": [
      "720\n"
     ]
    }
   ],
   "source": [
    "# By using for loop\n",
    "lst=[1,2,3,4,5,6]\n",
    "mul=1\n",
    "for i in lst:\n",
    "    mul=mul*i\n",
    "print(mul)\n"
   ]
  },
  {
   "cell_type": "code",
   "execution_count": 8,
   "metadata": {},
   "outputs": [
    {
     "name": "stdout",
     "output_type": "stream",
     "text": [
      "720\n"
     ]
    }
   ],
   "source": [
    "# by using while loop\n",
    "lst=[1,2,3,4,5,6]\n",
    "sum=1\n",
    "ele=0\n",
    "\n",
    "while(ele<len(lst)):\n",
    "    sum=sum*lst[ele]\n",
    "    ele+=1\n",
    "print(sum)"
   ]
  },
  {
   "cell_type": "code",
   "execution_count": 11,
   "metadata": {},
   "outputs": [
    {
     "name": "stdout",
     "output_type": "stream",
     "text": [
      "720\n"
     ]
    }
   ],
   "source": [
    "# By using numpy module\n",
    "import numpy\n",
    "lst=[1,2,3,4,5,6]\n",
    "ans=numpy.prod(lst)\n",
    "print(ans)"
   ]
  },
  {
   "cell_type": "code",
   "execution_count": 14,
   "metadata": {},
   "outputs": [
    {
     "name": "stdout",
     "output_type": "stream",
     "text": [
      "720\n"
     ]
    }
   ],
   "source": [
    "# By using lambda\n",
    "from functools import reduce \n",
    "lst=[1,2,3,4,5,6]\n",
    "ans= reduce ((lambda x,y: x*y),lst)\n",
    "print(ans)"
   ]
  },
  {
   "cell_type": "markdown",
   "metadata": {},
   "source": [
    "#  12 Python program to find smallest number in a list"
   ]
  },
  {
   "cell_type": "code",
   "execution_count": 19,
   "metadata": {},
   "outputs": [
    {
     "name": "stdout",
     "output_type": "stream",
     "text": [
      "2\n"
     ]
    }
   ],
   "source": [
    "# By Using sort method\n",
    "lst=[7,5,6,8,2,9]\n",
    "lst.sort()\n",
    "print(lst[0])"
   ]
  },
  {
   "cell_type": "code",
   "execution_count": 20,
   "metadata": {},
   "outputs": [
    {
     "data": {
      "text/plain": [
       "2"
      ]
     },
     "execution_count": 20,
     "metadata": {},
     "output_type": "execute_result"
    }
   ],
   "source": [
    "# By using min \n",
    "lst=[7,5,6,8,2,9]\n",
    "min(lst)"
   ]
  },
  {
   "cell_type": "markdown",
   "metadata": {},
   "source": [
    "#  Pending"
   ]
  },
  {
   "cell_type": "code",
   "execution_count": 71,
   "metadata": {},
   "outputs": [
    {
     "name": "stdout",
     "output_type": "stream",
     "text": [
      "1\n"
     ]
    }
   ],
   "source": [
    "# By using for loop\n",
    "lst=[7,5,6,8,2,9,1]\n",
    "n =0\n",
    "n1 =1\n",
    "sm=0\n",
    "for i in range(len(lst)):\n",
    "    n,n1=i-1, i\n",
    "    if lst[n]<=lst[n1]:\n",
    "            sm=lst[n]\n",
    "    else:sm=lst[n1]\n",
    "\n",
    "print(sm)\n",
    "    "
   ]
  },
  {
   "cell_type": "markdown",
   "metadata": {},
   "source": [
    "# 13 Python program to find largest number in a list"
   ]
  },
  {
   "cell_type": "code",
   "execution_count": 24,
   "metadata": {},
   "outputs": [
    {
     "name": "stdout",
     "output_type": "stream",
     "text": [
      "9\n"
     ]
    }
   ],
   "source": [
    "# By Using sort method\n",
    "lst=[7,5,6,8,2,9]\n",
    "lst.sort()\n",
    "print(lst[-1])"
   ]
  },
  {
   "cell_type": "code",
   "execution_count": 25,
   "metadata": {},
   "outputs": [
    {
     "data": {
      "text/plain": [
       "9"
      ]
     },
     "execution_count": 25,
     "metadata": {},
     "output_type": "execute_result"
    }
   ],
   "source": [
    "# By using max \n",
    "lst=[7,5,6,8,2,9]\n",
    "max(lst)"
   ]
  },
  {
   "cell_type": "markdown",
   "metadata": {},
   "source": [
    "#  14 Python program to find second largest number in a list"
   ]
  },
  {
   "cell_type": "code",
   "execution_count": 31,
   "metadata": {},
   "outputs": [
    {
     "name": "stdout",
     "output_type": "stream",
     "text": [
      "[4, 10, 20, 45, 65, 99]\n",
      "65\n"
     ]
    }
   ],
   "source": [
    "# By using sort and slicing \n",
    "lst = [10, 20,65,4, 45, 99] \n",
    "lst.sort()\n",
    "print(lst)\n",
    "print(lst[-2])"
   ]
  },
  {
   "cell_type": "code",
   "execution_count": 35,
   "metadata": {},
   "outputs": [
    {
     "data": {
      "text/plain": [
       "8"
      ]
     },
     "execution_count": 35,
     "metadata": {},
     "output_type": "execute_result"
    }
   ],
   "source": [
    "# BY removing large element\n",
    "lst=[7,5,6,8,2,9]\n",
    "nlst=lst\n",
    "nlst.remove(max(nlst))\n",
    "max(nlst)"
   ]
  },
  {
   "cell_type": "markdown",
   "metadata": {},
   "source": [
    "#  15 Python program to find N largest elements from a list"
   ]
  },
  {
   "cell_type": "code",
   "execution_count": 28,
   "metadata": {},
   "outputs": [
    {
     "name": "stdout",
     "output_type": "stream",
     "text": [
      "Enter n value:3\n",
      "[7, 8, 9]\n"
     ]
    }
   ],
   "source": [
    "# By using sort and slicing \n",
    "lst=[7,5,6,8,2,9]\n",
    "lst.sort()\n",
    "n=int(input('Enter n value:'))\n",
    "k=lst[-n::]\n",
    "print(k)"
   ]
  },
  {
   "cell_type": "markdown",
   "metadata": {},
   "source": [
    "# 16 Python program to print even numbers in a list"
   ]
  },
  {
   "cell_type": "code",
   "execution_count": 29,
   "metadata": {},
   "outputs": [
    {
     "name": "stdout",
     "output_type": "stream",
     "text": [
      "2\n",
      "4\n",
      "6\n",
      "8\n"
     ]
    }
   ],
   "source": [
    "# By using for loop\n",
    "lst= [1,2,3,4,5,6,7,8,9]\n",
    "for i in lst:\n",
    "    if i%2==0:\n",
    "        print(i)"
   ]
  },
  {
   "cell_type": "code",
   "execution_count": 32,
   "metadata": {},
   "outputs": [
    {
     "name": "stdout",
     "output_type": "stream",
     "text": [
      "[2, 4, 6, 8]\n"
     ]
    }
   ],
   "source": [
    "# By list \n",
    "lst= [1,2,3,4,5,6,7,8,9]\n",
    "num =[i for i in lst if i % 2 == 0] \n",
    "print(num)"
   ]
  },
  {
   "cell_type": "code",
   "execution_count": 4,
   "metadata": {},
   "outputs": [
    {
     "name": "stdout",
     "output_type": "stream",
     "text": [
      "2\n",
      "4\n",
      "6\n",
      "8\n"
     ]
    }
   ],
   "source": [
    "# using while loop\n",
    "\n",
    "lst = [1,2,3,4,5,6,7,8,9]\n",
    "num = 0        \n",
    "while(num < len(lst)):     \n",
    "    if lst[num] % 2 == 0: \n",
    "       print(lst[num]) \n",
    "    num += 1\n",
    "     "
   ]
  },
  {
   "cell_type": "markdown",
   "metadata": {},
   "source": [
    "# 17 Python program to print odd numbers in a List"
   ]
  },
  {
   "cell_type": "code",
   "execution_count": 9,
   "metadata": {},
   "outputs": [
    {
     "name": "stdout",
     "output_type": "stream",
     "text": [
      "1\n",
      "3\n",
      "5\n",
      "7\n",
      "9\n"
     ]
    }
   ],
   "source": [
    "# By using for loop\n",
    "lst= [1,2,3,4,5,6,7,8,9]\n",
    "for i in lst:\n",
    "    if i%2!=0:\n",
    "        print(i)"
   ]
  },
  {
   "cell_type": "code",
   "execution_count": 8,
   "metadata": {},
   "outputs": [
    {
     "name": "stdout",
     "output_type": "stream",
     "text": [
      "[1, 3, 5, 7, 9]\n"
     ]
    }
   ],
   "source": [
    "# By list \n",
    "lst= [1,2,3,4,5,6,7,8,9]\n",
    "num =[i for i in lst if i % 2 != 0] \n",
    "print(num)"
   ]
  },
  {
   "cell_type": "code",
   "execution_count": 7,
   "metadata": {},
   "outputs": [
    {
     "name": "stdout",
     "output_type": "stream",
     "text": [
      "1\n",
      "3\n",
      "5\n",
      "7\n",
      "9\n"
     ]
    }
   ],
   "source": [
    "# using while loop\n",
    "\n",
    "lst = [1,2,3,4,5,6,7,8,9]\n",
    "num = 0        \n",
    "while(num < len(lst)):     \n",
    "    if lst[num] % 2 !=0: \n",
    "       print(lst[num]) \n",
    "    num += 1"
   ]
  },
  {
   "cell_type": "markdown",
   "metadata": {},
   "source": [
    "# 18 Python program to print all even numbers in a range"
   ]
  },
  {
   "cell_type": "code",
   "execution_count": 7,
   "metadata": {},
   "outputs": [
    {
     "name": "stdout",
     "output_type": "stream",
     "text": [
      "Enter starting num of range:10\n",
      "Enter ending num of range:20\n",
      "10\n",
      "12\n",
      "14\n",
      "16\n",
      "18\n",
      "20\n"
     ]
    }
   ],
   "source": [
    "# By using For loop\n",
    "st=int(input(\"Enter starting num of range:\"))\n",
    "ed=int(input(\"Enter ending num of range:\"))\n",
    "\n",
    "for i in range(st,ed+1):\n",
    "    if i%2==0:\n",
    "        print(i)"
   ]
  },
  {
   "cell_type": "markdown",
   "metadata": {},
   "source": [
    "#  19 Python program to print all odd numbers in a range"
   ]
  },
  {
   "cell_type": "code",
   "execution_count": 19,
   "metadata": {},
   "outputs": [
    {
     "name": "stdout",
     "output_type": "stream",
     "text": [
      "Enter starting num of range:1\n",
      "Enter ending num of range:10\n",
      "1\n",
      "3\n",
      "5\n",
      "7\n",
      "9\n"
     ]
    }
   ],
   "source": [
    "# By using For loop\n",
    "st=int(input(\"Enter starting num of range:\"))\n",
    "ed=int(input(\"Enter ending num of range:\"))\n",
    "\n",
    "for i in range(st,ed+1):\n",
    "    if i%2!=0:\n",
    "        print(i)"
   ]
  },
  {
   "cell_type": "markdown",
   "metadata": {},
   "source": [
    "#  20 Python program to count Even and Odd numbers in a List"
   ]
  },
  {
   "cell_type": "code",
   "execution_count": 22,
   "metadata": {},
   "outputs": [
    {
     "name": "stdout",
     "output_type": "stream",
     "text": [
      "5\n",
      "4\n"
     ]
    }
   ],
   "source": [
    "# By using for loop\n",
    "\n",
    "lst = [1,2,3,4,5,6,7,8,9]\n",
    "odd=0\n",
    "even=0\n",
    "\n",
    "for i in lst:\n",
    "    if i%2!=0:\n",
    "        odd+=1\n",
    "    else:\n",
    "        even+=1\n",
    "print(odd)\n",
    "print(even)"
   ]
  },
  {
   "cell_type": "code",
   "execution_count": 25,
   "metadata": {},
   "outputs": [
    {
     "name": "stdout",
     "output_type": "stream",
     "text": [
      "5\n",
      "4\n"
     ]
    }
   ],
   "source": [
    "# BY Using List Comprehension\n",
    "lst = [1,2,3,4,5,6,7,8,9]\n",
    "\n",
    "odd=[i for i in lst if i%2!=0]\n",
    "even =[i for i in lst if i%2==0]\n",
    "print(len(odd))\n",
    "print(len(even))"
   ]
  },
  {
   "cell_type": "code",
   "execution_count": 1,
   "metadata": {},
   "outputs": [
    {
     "name": "stdout",
     "output_type": "stream",
     "text": [
      "5\n",
      "4\n"
     ]
    }
   ],
   "source": [
    "# By using while loop\n",
    "\n",
    "lst = [1,2,3,4,5,6,7,8,9]\n",
    "odd =0\n",
    "even =0\n",
    "num=0\n",
    "\n",
    "while (num<len(lst)):\n",
    "    if lst[num] %2!=0:\n",
    "        odd+=1\n",
    "    else:even+=1\n",
    "    \n",
    "    num+=1\n",
    "\n",
    "print(odd)\n",
    "print(even)"
   ]
  },
  {
   "cell_type": "markdown",
   "metadata": {},
   "source": [
    "#  21 Python program to print positive numbers in a list"
   ]
  },
  {
   "cell_type": "code",
   "execution_count": 3,
   "metadata": {},
   "outputs": [
    {
     "name": "stdout",
     "output_type": "stream",
     "text": [
      "[1, 2, 3, 4, 5, 9]\n"
     ]
    }
   ],
   "source": [
    "#  By using for loop   And same like above methods\n",
    "lst=[1,2,3,-6,-7,-8,4,5,9]\n",
    "ls=[]\n",
    "\n",
    "for i in lst:\n",
    "        if i>0:\n",
    "            ls.append(i)\n",
    "print(ls)"
   ]
  },
  {
   "cell_type": "markdown",
   "metadata": {},
   "source": [
    "# 22 Python program to print negative numbers in a list"
   ]
  },
  {
   "cell_type": "code",
   "execution_count": 4,
   "metadata": {},
   "outputs": [
    {
     "name": "stdout",
     "output_type": "stream",
     "text": [
      "[-6, -7, -8]\n"
     ]
    }
   ],
   "source": [
    "#  By using for loop   And same like above methods\n",
    "lst=[1,2,3,-6,-7,-8,4,5,9]\n",
    "ls=[]\n",
    "\n",
    "for i in lst:\n",
    "        if i<0:\n",
    "            ls.append(i)\n",
    "print(ls)"
   ]
  },
  {
   "cell_type": "markdown",
   "metadata": {},
   "source": [
    "# 23 Python program to print all positive numbers in a range"
   ]
  },
  {
   "cell_type": "code",
   "execution_count": 6,
   "metadata": {},
   "outputs": [
    {
     "name": "stdout",
     "output_type": "stream",
     "text": [
      "Enter starting num of range:-6\n",
      "Enter ending num of range:6\n",
      "1\n",
      "2\n",
      "3\n",
      "4\n",
      "5\n",
      "6\n"
     ]
    }
   ],
   "source": [
    "# By using For loop\n",
    "st=int(input(\"Enter starting num of range:\"))\n",
    "ed=int(input(\"Enter ending num of range:\"))\n",
    "\n",
    "for i in range(st,ed+1):\n",
    "    if i>0:\n",
    "        print(i)"
   ]
  },
  {
   "cell_type": "markdown",
   "metadata": {},
   "source": [
    "# 24 Python program to print all negative numbers in a range"
   ]
  },
  {
   "cell_type": "code",
   "execution_count": 8,
   "metadata": {},
   "outputs": [
    {
     "name": "stdout",
     "output_type": "stream",
     "text": [
      "Enter starting num of range:-6\n",
      "Enter ending num of range:6\n",
      "-6\n",
      "-5\n",
      "-4\n",
      "-3\n",
      "-2\n",
      "-1\n"
     ]
    }
   ],
   "source": [
    "# By using For loop\n",
    "st=int(input(\"Enter starting num of range:\"))\n",
    "ed=int(input(\"Enter ending num of range:\"))\n",
    "\n",
    "for i in range(st,ed+1):\n",
    "    if i<0:\n",
    "        print(i)"
   ]
  },
  {
   "cell_type": "markdown",
   "metadata": {},
   "source": [
    "# 25 Python program to count positive and negative numbers in a list"
   ]
  },
  {
   "cell_type": "code",
   "execution_count": 12,
   "metadata": {},
   "outputs": [
    {
     "name": "stdout",
     "output_type": "stream",
     "text": [
      "5\n",
      "4\n"
     ]
    }
   ],
   "source": [
    "# By using for loop\n",
    "\n",
    "lst = [1,2,3,4,-5,-6,-7,-8,9]\n",
    "pos=0\n",
    "neg=0\n",
    "\n",
    "for i in lst:\n",
    "    if i>0:\n",
    "        pos+=1\n",
    "    else:\n",
    "        neg+=1\n",
    "print(pos)\n",
    "print(neg)"
   ]
  },
  {
   "cell_type": "markdown",
   "metadata": {},
   "source": [
    "#  26 Remove multiple elements from a list in Python"
   ]
  },
  {
   "cell_type": "code",
   "execution_count": 1,
   "metadata": {},
   "outputs": [
    {
     "name": "stdout",
     "output_type": "stream",
     "text": [
      "[11, 50]\n"
     ]
    }
   ],
   "source": [
    "# by using del with slicing \n",
    "list1 = [11, 5, 17, 18, 23, 50]  \n",
    "del list1[1:5] \n",
    "print(list1) \n"
   ]
  },
  {
   "cell_type": "code",
   "execution_count": 5,
   "metadata": {},
   "outputs": [
    {
     "name": "stdout",
     "output_type": "stream",
     "text": [
      "[1, 3, 5, 7, 9]\n"
     ]
    }
   ],
   "source": [
    "# by using for loop\n",
    "lst=[1,2,3,4,5,6,7,8,9] \n",
    "\n",
    "for i in lst:\n",
    "    if i%2==0:\n",
    "        lst.remove(i)\n",
    "print(lst)\n"
   ]
  },
  {
   "cell_type": "code",
   "execution_count": 8,
   "metadata": {},
   "outputs": [
    {
     "data": {
      "text/plain": [
       "[2, 3, 4, 5, 9]"
      ]
     },
     "execution_count": 8,
     "metadata": {},
     "output_type": "execute_result"
    }
   ],
   "source": [
    "# By Using list comprehension\n",
    "lst=[1,2,3,4,5,6,7,8,9]\n",
    "ls=[1,6,7,8]\n",
    "\n",
    "lst=[i for i in lst if i not in ls ]\n",
    "\n",
    "lst"
   ]
  },
  {
   "cell_type": "markdown",
   "metadata": {},
   "source": [
    "#  27 Python | Remove empty tuples from a list"
   ]
  },
  {
   "cell_type": "code",
   "execution_count": 12,
   "metadata": {},
   "outputs": [
    {
     "name": "stdout",
     "output_type": "stream",
     "text": [
      "[('ram', '15', '8'), ('laxman', 'sita'), ('krishna', 'akbar', '45'), ('', '')]\n"
     ]
    }
   ],
   "source": [
    "# By using for loop\n",
    "\n",
    "lst= [(), ('ram','15','8'), (), ('laxman', 'sita'), \n",
    "                  ('krishna', 'akbar', '45'), ('',''),()]\n",
    "for i in lst:\n",
    "    if i==():\n",
    "        lst.remove(i)\n",
    "print(lst)"
   ]
  },
  {
   "cell_type": "code",
   "execution_count": 15,
   "metadata": {},
   "outputs": [
    {
     "name": "stdout",
     "output_type": "stream",
     "text": [
      "<filter object at 0x000001D79A3697F0>\n"
     ]
    }
   ],
   "source": [
    "lst= [(), ('ram','15','8'), (), ('laxman', 'sita'), \n",
    "                  ('krishna', 'akbar', '45'), ('',''),()]\n",
    "lst= filter(None, lst)\n",
    "print(lst)"
   ]
  },
  {
   "cell_type": "markdown",
   "metadata": {},
   "source": [
    "#  28 Python | Program to print duplicates from a list of integers"
   ]
  },
  {
   "cell_type": "code",
   "execution_count": 7,
   "metadata": {},
   "outputs": [
    {
     "name": "stdout",
     "output_type": "stream",
     "text": [
      "{20, -20, 30, 60}\n"
     ]
    }
   ],
   "source": [
    "# By using for loop\n",
    "lst=[10, 20, 30, 20, 20, 30, 40, 50, -20, 60, 60, -20, -20]\n",
    "ls=[]\n",
    "fls=[]\n",
    "set(fls)\n",
    "\n",
    "for i in lst:\n",
    "    if i not in ls:\n",
    "        ls.append(i)\n",
    "    elif i in ls:\n",
    "        fls.append(i)\n",
    "fls\n",
    "print(set(fls))"
   ]
  },
  {
   "cell_type": "code",
   "execution_count": 1,
   "metadata": {},
   "outputs": [
    {
     "name": "stdout",
     "output_type": "stream",
     "text": [
      "[20, 30, -20, 60]\n"
     ]
    }
   ],
   "source": [
    "lst=[10, 20, 30, 20, 20, 30, 40, 50, -20, 60, 60, -20, -20]\n",
    "ls=[]\n",
    "for i in range(len(lst)):\n",
    "    k=i+1\n",
    "    for j in range(k,len(lst)):\n",
    "        if lst[i]==lst[j] and lst[i] not in ls:\n",
    "            ls.append(lst[i])\n",
    "print(ls)        "
   ]
  },
  {
   "cell_type": "markdown",
   "metadata": {},
   "source": [
    "# 29 Python program to find Cumulative sum of a list "
   ]
  },
  {
   "cell_type": "code",
   "execution_count": 1,
   "metadata": {},
   "outputs": [
    {
     "name": "stdout",
     "output_type": "stream",
     "text": [
      "[1, 3, 6, 10, 15, 21, 28]\n"
     ]
    }
   ],
   "source": [
    "lst=[1,2,3,4,5,6,7]\n",
    "ls=[]\n",
    "sm=0\n",
    "for i in lst:\n",
    "    sm+=i\n",
    "    ls.append(sm)\n",
    "print(ls)\n",
    "    \n",
    "    "
   ]
  },
  {
   "cell_type": "markdown",
   "metadata": {},
   "source": [
    "#  30 Break a list into chunks of size N in Python"
   ]
  },
  {
   "cell_type": "code",
   "execution_count": 3,
   "metadata": {},
   "outputs": [
    {
     "name": "stdout",
     "output_type": "stream",
     "text": [
      "Enter a num:2\n",
      "[[1, 2], [3, 4], [5, 6], [7, 8], [9]]\n"
     ]
    }
   ],
   "source": [
    "lst = [1,2,3,4,5,6,7,8,9]\n",
    "\n",
    "def sets(l,n):\n",
    "    for i in range(0,len(l),n):\n",
    "        yield l[i:i +n]\n",
    "n=int(input('Enter a num:'))\n",
    "x=list(sets(lst,n))\n",
    "print(x)"
   ]
  },
  {
   "cell_type": "code",
   "execution_count": 6,
   "metadata": {},
   "outputs": [
    {
     "name": "stdout",
     "output_type": "stream",
     "text": [
      "Enter a num:3\n",
      "[[1, 2, 3], [4, 5, 6], [7, 8, 9]]\n"
     ]
    }
   ],
   "source": [
    " x = [1,2,3,4,5,6,7,8,9]\n",
    "n=int(input('Enter a num:'))\n",
    "y=[x[i * n:(i + 1) * n] for i in range((len(x) + n - 1) // n )]\n",
    "print(y)"
   ]
  },
  {
   "cell_type": "markdown",
   "metadata": {},
   "source": [
    "#  31  Sort the values of first list using second list"
   ]
  },
  {
   "cell_type": "code",
   "execution_count": 8,
   "metadata": {},
   "outputs": [
    {
     "data": {
      "text/plain": [
       "[0, 1, 1, 0, 1, 2, 2, 0, 1]"
      ]
     },
     "execution_count": 8,
     "metadata": {},
     "output_type": "execute_result"
    }
   ],
   "source": [
    "lst1 = [\"a\", \"b\", \"c\", \"d\", \"e\", \"f\", \"g\", \"h\", \"i\"]\n",
    "lst2 = [ 0,   1,   1,    0,   1,   2,   2,   0,   1]\n",
    "clst=zip(lst1,lst2)\n",
    "\n",
    "z = [x for _, x in sorted(clst)]\n",
    "z"
   ]
  },
  {
   "cell_type": "code",
   "execution_count": null,
   "metadata": {},
   "outputs": [],
   "source": [
    "def sort_list(lst1, lst2): "
   ]
  }
 ],
 "metadata": {
  "kernelspec": {
   "display_name": "Python 3",
   "language": "python",
   "name": "python3"
  },
  "language_info": {
   "codemirror_mode": {
    "name": "ipython",
    "version": 3
   },
   "file_extension": ".py",
   "mimetype": "text/x-python",
   "name": "python",
   "nbconvert_exporter": "python",
   "pygments_lexer": "ipython3",
   "version": "3.7.3"
  }
 },
 "nbformat": 4,
 "nbformat_minor": 2
}
