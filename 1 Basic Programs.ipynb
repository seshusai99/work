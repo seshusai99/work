{
 "cells": [
  {
   "cell_type": "markdown",
   "metadata": {},
   "source": [
    "## 1 Python program to add two numbers"
   ]
  },
  {
   "cell_type": "code",
   "execution_count": 16,
   "metadata": {},
   "outputs": [
    {
     "name": "stdout",
     "output_type": "stream",
     "text": [
      "Enter num1:3\n",
      "Enter num2:6\n",
      "sum of 3 and 6 is 9\n"
     ]
    }
   ],
   "source": [
    "# in python Numeric data Types are -- int, float,complex\n",
    "\n",
    "#int type numbers addition \n",
    "\n",
    "num1=int(input('Enter num1:'))  \n",
    "num2=int(input('Enter num2:'))\n",
    "\n",
    "sum=num1+num2\n",
    "\n",
    "print(\"sum of {} and {} is {}\" .format(num1,num2, sum))"
   ]
  },
  {
   "cell_type": "code",
   "execution_count": 8,
   "metadata": {},
   "outputs": [
    {
     "name": "stdout",
     "output_type": "stream",
     "text": [
      "Enter num1:9.9\n",
      "Enter num2:9.9\n",
      "sum of 9.9 and 9.9 is 19.8\n"
     ]
    }
   ],
   "source": [
    "#float type numbers addition \n",
    "\n",
    "num1=float(input('Enter num1:'))\n",
    "num2=float(input('Enter num2:'))\n",
    "\n",
    "sum=num1+num2\n",
    "\n",
    "print(\"sum of {} and {} is {}\" .format(num1,num2, sum))"
   ]
  },
  {
   "cell_type": "code",
   "execution_count": 14,
   "metadata": {},
   "outputs": [
    {
     "name": "stdout",
     "output_type": "stream",
     "text": [
      "Enter num1:3\n",
      "Enter num2:9+6j\n",
      "sum of (3+0j) and (9+6j) is (12+6j)\n"
     ]
    }
   ],
   "source": [
    "#Complex type numbers addition \n",
    "#Complex numbers are written with a \"j\" as the imaginary part\n",
    "\n",
    "num1=complex(input('Enter num1:'))\n",
    "num2=complex(input('Enter num2:'))\n",
    "\n",
    "sum=num1+num2\n",
    "\n",
    "print(\"sum of {} and {} is {}\" .format(num1,num2, sum))"
   ]
  },
  {
   "cell_type": "markdown",
   "metadata": {},
   "source": [
    "\n",
    "# 2 Python Program for factorial of a number"
   ]
  },
  {
   "cell_type": "code",
   "execution_count": 5,
   "metadata": {},
   "outputs": [
    {
     "name": "stdout",
     "output_type": "stream",
     "text": [
      "Enter a number:6\n",
      "factorial of 6 is 720\n"
     ]
    }
   ],
   "source": [
    "num=int(input('Enter a number:'))\n",
    "val=1\n",
    "for i in range(num+1):\n",
    "    if i>0:\n",
    "        val=val*i\n",
    "print('factorial of {} is {}'.format(num,val))"
   ]
  },
  {
   "cell_type": "markdown",
   "metadata": {},
   "source": [
    "# 3 Python Program for simple interest"
   ]
  },
  {
   "cell_type": "code",
   "execution_count": 7,
   "metadata": {},
   "outputs": [
    {
     "name": "stdout",
     "output_type": "stream",
     "text": [
      "Enter principle amount:1000\n",
      "Enter time period years:2\n",
      "Enter rate of interest:10\n",
      "simple interest: 200.0\n"
     ]
    }
   ],
   "source": [
    "# simple interest formula  p X t X r/100  ((p*t*r)/100)\n",
    "# P is the principle amount ,T is the time in years , R is the rate of interest\n",
    "P=float(input('Enter principle amount:'))\n",
    "T=float(input('Enter time period years:')) # if one year six  months 1.5\n",
    "R=float(input('Enter rate of interest:'))\n",
    "\n",
    "si=(P*T*R)/100\n",
    "\n",
    "print('simple interest:',si)"
   ]
  },
  {
   "cell_type": "markdown",
   "metadata": {},
   "source": [
    "#  4 Python Program for compound interest"
   ]
  },
  {
   "cell_type": "code",
   "execution_count": 6,
   "metadata": {},
   "outputs": [
    {
     "name": "stdout",
     "output_type": "stream",
     "text": [
      "Enter the principle amount : 1000\n",
      "Enter the rate of interest : 10\n",
      "Enter the time in the years: 2\n",
      "Principle amount  :  1000.0\n",
      "Interest rate     :  10.0\n",
      "Time in years     :  2.0\n",
      "compound Interest :  1210.0000000000002\n"
     ]
    }
   ],
   "source": [
    "p = float(input(\"Enter the principle amount : \"))\n",
    "r = float(input(\"Enter the rate of interest : \"))\n",
    "t = float(input(\"Enter the time in the years: \"))\n",
    "\n",
    "ci =  p * (pow((1 + r / 100), t))\n",
    "\n",
    "print(\"Principle amount  : \", p)\n",
    "print(\"Interest rate     : \", r)\n",
    "print(\"Time in years     : \", t)\n",
    "print(\"compound Interest : \", ci)"
   ]
  },
  {
   "cell_type": "code",
   "execution_count": 19,
   "metadata": {},
   "outputs": [
    {
     "name": "stdout",
     "output_type": "stream",
     "text": [
      "Enter the principle amount : 1000\n",
      "Enter the rate of interest : 10\n",
      "Enter the time in the years: 2\n",
      "Principle amount  :  1000.0\n",
      "Interest rate     :  10.0\n",
      "Time in years     :  2.0\n",
      "Total amount :  1210.0000000000002\n",
      "compound Interest :  210.00000000000023\n"
     ]
    }
   ],
   "source": [
    "p = float(input(\"Enter the principle amount : \"))\n",
    "r = float(input(\"Enter the rate of interest : \"))\n",
    "t = float(input(\"Enter the time in the years: \"))\n",
    "\n",
    "Total  = p*((1+r/100)**t) # Toatal amount inclundi interest\n",
    "ci = Total-p  # ci only compound interest\n",
    "print(\"Principle amount  : \", p)\n",
    "print(\"Interest rate     : \", r)\n",
    "print(\"Time in years     : \", t)\n",
    "print(\"Total amount : \"   ,Total)\n",
    "print(\"compound Interest : \", ci)"
   ]
  },
  {
   "cell_type": "markdown",
   "metadata": {},
   "source": [
    "#  5 Python Program to check Armstrong Number"
   ]
  },
  {
   "cell_type": "code",
   "execution_count": 31,
   "metadata": {},
   "outputs": [
    {
     "name": "stdout",
     "output_type": "stream",
     "text": [
      "Enter a num:9\n",
      "YES The given num is Armstrong num\n"
     ]
    }
   ],
   "source": [
    "num=int(input('Enter a num:'))\n",
    "n=str(num)\n",
    "val=0\n",
    "for i in n:\n",
    "    val=val+(int(i)**len(n))\n",
    "if num==val:\n",
    "    print(\"YES The given num is Armstrong num\")\n",
    "else: print(\"NO The given num is Not Armstrong num\")"
   ]
  },
  {
   "cell_type": "markdown",
   "metadata": {},
   "source": [
    "# 6 Python Program for Program to find area of a circle"
   ]
  },
  {
   "cell_type": "code",
   "execution_count": 33,
   "metadata": {},
   "outputs": [
    {
     "name": "stdout",
     "output_type": "stream",
     "text": [
      "Enter radius :5\n",
      "Area of a circle is : 78.57142857142857\n"
     ]
    }
   ],
   "source": [
    "r = float(input(\"Enter radius :\"))\n",
    "PI=22/7\n",
    "area= PI* r**2\n",
    "print ('Area of a circle is :',area)"
   ]
  },
  {
   "cell_type": "markdown",
   "metadata": {},
   "source": [
    "#  7 Python program to print all Prime numbers in an Interval"
   ]
  },
  {
   "cell_type": "code",
   "execution_count": 3,
   "metadata": {},
   "outputs": [
    {
     "name": "stdout",
     "output_type": "stream",
     "text": [
      "Enter Starting range num:1\n",
      "Enter ending range num:30\n",
      "2\n",
      "3\n",
      "5\n",
      "7\n",
      "11\n",
      "13\n",
      "17\n",
      "19\n",
      "23\n",
      "29\n"
     ]
    }
   ],
   "source": [
    "start=int(input('Enter Starting range num:'))\n",
    "end=int(input('Enter ending range num:'))\n",
    "\n",
    "for i in range(start,end+1):\n",
    "    if i > 1:\n",
    "        for n in range(2,i):\n",
    "            if (i%n)==0:\n",
    "                break\n",
    "        else:print(i)"
   ]
  },
  {
   "cell_type": "markdown",
   "metadata": {},
   "source": [
    "# 8 Python program to check whether a number is Prime or not"
   ]
  },
  {
   "cell_type": "code",
   "execution_count": null,
   "metadata": {},
   "outputs": [],
   "source": [
    "n=int(input('Enter a Num:'))\n",
    "x=[]\n",
    "for i in range(1,n+1):\n",
    "    if n%i==0:\n",
    "        x.append(i)\n",
    "print(x)\n",
    "if len(x)==2:print('True')\n",
    "else:print('False')"
   ]
  },
  {
   "cell_type": "markdown",
   "metadata": {},
   "source": [
    "#  9 Python Program for n-th Fibonacci number"
   ]
  },
  {
   "cell_type": "code",
   "execution_count": 41,
   "metadata": {},
   "outputs": [
    {
     "name": "stdout",
     "output_type": "stream",
     "text": [
      "Enter first num:1\n",
      "Enter second num10\n",
      "enter up to range:9\n",
      "1 10 11 21 32 53 85 138 223 \n",
      " n-th Fibonacci number: 223\n"
     ]
    }
   ],
   "source": [
    "fn=int(input('Enter first num:'))\n",
    "sn=int(input('Enter second num'))\n",
    "x=[]\n",
    "num=int(input('enter up to range:'))\n",
    "print(fn,sn,end=\" \")\n",
    "for i in range(3,num+1):\n",
    "    next=fn+sn\n",
    "    print(next,end=\" \")\n",
    "    x.append(next)\n",
    "    fn=sn\n",
    "    sn=next\n",
    "print('\\n n-th Fibonacci number:',x[-1])"
   ]
  },
  {
   "cell_type": "markdown",
   "metadata": {},
   "source": [
    "#  10 Python Program for Fibonacci numbers"
   ]
  },
  {
   "cell_type": "code",
   "execution_count": 42,
   "metadata": {},
   "outputs": [
    {
     "name": "stdout",
     "output_type": "stream",
     "text": [
      "Enter first num:1\n",
      "Enter second num10\n",
      "enter up to range:9\n",
      "1 10 11 21 32 53 85 138 223 "
     ]
    }
   ],
   "source": [
    "fn=int(input('Enter first num:'))\n",
    "sn=int(input('Enter second num'))\n",
    "num=int(input('enter up to range:'))\n",
    "print(fn,sn,end=\" \")\n",
    "for i in range(3,num+1):\n",
    "    next=fn+sn\n",
    "    print(next,end=\" \")\n",
    "    fn=sn\n",
    "    sn=next"
   ]
  },
  {
   "cell_type": "markdown",
   "metadata": {},
   "source": [
    "#  11 Python Program for How to check if a given number is Fibonacci number?"
   ]
  },
  {
   "cell_type": "code",
   "execution_count": 14,
   "metadata": {},
   "outputs": [
    {
     "name": "stdout",
     "output_type": "stream",
     "text": [
      "Enter first num:1\n",
      "Enter second num10\n",
      "enter up to range:9\n",
      "Enter num:6\n",
      "6 is not a Fibonacci Number\n"
     ]
    }
   ],
   "source": [
    "fn=int(input('Enter first num:'))\n",
    "sn=int(input('Enter second num'))\n",
    "x=[fn,sn,]\n",
    "num=int(input('enter up to range:'))\n",
    "for i in range(3,num+1):\n",
    "    next=fn+sn\n",
    "    x.append(next)\n",
    "    fn=sn\n",
    "    sn=next  \n",
    "    \n",
    "inp=int(input('Enter num:'))\n",
    "\n",
    "if inp in x:\n",
    "    print( inp,'is a Fibonacci Number')\n",
    "else:print(inp,'is not a Fibonacci Number')"
   ]
  },
  {
   "cell_type": "markdown",
   "metadata": {},
   "source": [
    "#  12 Python Program for n\\’th multiple of a number in Fibonacci Series"
   ]
  },
  {
   "cell_type": "code",
   "execution_count": null,
   "metadata": {},
   "outputs": [],
   "source": []
  },
  {
   "cell_type": "markdown",
   "metadata": {},
   "source": [
    "# 13 Program to print ASCII Value of a character "
   ]
  },
  {
   "cell_type": "code",
   "execution_count": 20,
   "metadata": {},
   "outputs": [
    {
     "name": "stdout",
     "output_type": "stream",
     "text": [
      "Enter a character:A\n",
      "The ASCII value of 'A' is 65\n"
     ]
    }
   ],
   "source": [
    "char=input(\"Enter a character:\")\n",
    "print(\"The ASCII value of '\" + char + \"' is\", ord(char))"
   ]
  },
  {
   "cell_type": "markdown",
   "metadata": {},
   "source": [
    "#  14 Python Program for Sum of squares of first n natural numbers"
   ]
  },
  {
   "cell_type": "code",
   "execution_count": 46,
   "metadata": {},
   "outputs": [
    {
     "name": "stdout",
     "output_type": "stream",
     "text": [
      "Enter a number:4\n",
      "Sum of squares of first 4 natural numbers is 30\n"
     ]
    }
   ],
   "source": [
    "N=int(input(\"Enter a number:\"))\n",
    "sum=0\n",
    "for i in range(1,N+1):\n",
    "    sum+=i**2\n",
    "print(\"Sum of squares of first {} natural numbers is {}\".format(N,sum))"
   ]
  },
  {
   "cell_type": "markdown",
   "metadata": {},
   "source": [
    "#  15 Python Program for cube sum of first n natural numbers"
   ]
  },
  {
   "cell_type": "code",
   "execution_count": 49,
   "metadata": {},
   "outputs": [
    {
     "name": "stdout",
     "output_type": "stream",
     "text": [
      "Enter a number:7\n",
      "Sum of cubes of first 7 natural numbers is 784\n"
     ]
    }
   ],
   "source": [
    "N=int(input(\"Enter a number:\"))\n",
    "sum=0\n",
    "for i in range(1,N+1):\n",
    "    sum+=i**3\n",
    "print(\"Sum of cubes of first {} natural numbers is {}\".format(N,sum))"
   ]
  },
  {
   "cell_type": "code",
   "execution_count": null,
   "metadata": {},
   "outputs": [],
   "source": []
  }
 ],
 "metadata": {
  "kernelspec": {
   "display_name": "Python 3",
   "language": "python",
   "name": "python3"
  },
  "language_info": {
   "codemirror_mode": {
    "name": "ipython",
    "version": 3
   },
   "file_extension": ".py",
   "mimetype": "text/x-python",
   "name": "python",
   "nbconvert_exporter": "python",
   "pygments_lexer": "ipython3",
   "version": "3.7.3"
  }
 },
 "nbformat": 4,
 "nbformat_minor": 2
}
