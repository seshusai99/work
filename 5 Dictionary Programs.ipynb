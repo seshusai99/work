{
 "cells": [
  {
   "cell_type": "markdown",
   "metadata": {},
   "source": [
    "# 1 Python | Sort Python Dictionaries by Key or Value "
   ]
  },
  {
   "cell_type": "code",
   "execution_count": 6,
   "metadata": {},
   "outputs": [
    {
     "name": "stdout",
     "output_type": "stream",
     "text": [
      "(1, 2)(2, 56)(3, 323)(4, 24)(5, 12)(6, 18)"
     ]
    }
   ],
   "source": [
    "key_value ={}   \n",
    "key_value[2] = 56       \n",
    "key_value[1] = 2 \n",
    "key_value[5] = 12 \n",
    "key_value[4] = 24\n",
    "key_value[6] = 18      \n",
    "key_value[3] = 323 \n",
    "\n",
    "for i in sorted(key_value.keys()):\n",
    "    print((i, key_value[i]) ,end='')"
   ]
  },
  {
   "cell_type": "code",
   "execution_count": 24,
   "metadata": {},
   "outputs": [
    {
     "name": "stdout",
     "output_type": "stream",
     "text": [
      "('1', 5)('2', 10)('3', 15)('4', 20)('5', 25)"
     ]
    }
   ],
   "source": [
    "x={'5':25,'3':15,'2':10,'4':20,'1':5}\n",
    "\n",
    "for i in sorted(x.keys()):\n",
    "    print((i,x[i]),end='')"
   ]
  },
  {
   "cell_type": "markdown",
   "metadata": {},
   "source": [
    "# 2 Handling missing keys in Python dictionaries"
   ]
  },
  {
   "cell_type": "code",
   "execution_count": 30,
   "metadata": {},
   "outputs": [
    {
     "name": "stdout",
     "output_type": "stream",
     "text": [
      "The value associated with 'a' is : 1\n",
      "The value associated with 'c' is : Key Not found\n"
     ]
    }
   ],
   "source": [
    "import collections\n",
    "defd = collections.defaultdict(lambda : 'Key Not found')\n",
    "defd['a'] = 1\n",
    "defd['b'] = 2 \n",
    "print (\"The value associated with 'a' is : \",end=\"\") \n",
    "print (defd['a']) \n",
    "print (\"The value associated with 'c' is : \",end=\"\") \n",
    "print (defd['c']) "
   ]
  },
  {
   "cell_type": "markdown",
   "metadata": {},
   "source": [
    "# 3 Python dictionary with keys having multiple inputs"
   ]
  },
  {
   "cell_type": "code",
   "execution_count": 35,
   "metadata": {},
   "outputs": [
    {
     "name": "stdout",
     "output_type": "stream",
     "text": [
      "{(10, 20, 30): 60}\n"
     ]
    }
   ],
   "source": [
    "dict={}\n",
    "x,y,z=10,20,30\n",
    "dict[x,y,z]=x+y+z\n",
    "print(dict)"
   ]
  },
  {
   "cell_type": "markdown",
   "metadata": {},
   "source": [
    "# 4 Python program to find the sum of all items in a dictionary"
   ]
  },
  {
   "cell_type": "code",
   "execution_count": 40,
   "metadata": {},
   "outputs": [
    {
     "name": "stdout",
     "output_type": "stream",
     "text": [
      "600\n"
     ]
    }
   ],
   "source": [
    "inp={'a': 100, 'b':200, 'c':300}\n",
    "sum=0\n",
    "for i in inp.values():\n",
    "    sum+=i\n",
    "print(sum)"
   ]
  },
  {
   "cell_type": "code",
   "execution_count": 44,
   "metadata": {},
   "outputs": [
    {
     "name": "stdout",
     "output_type": "stream",
     "text": [
      "600\n"
     ]
    }
   ],
   "source": [
    "inp={'a': 100, 'b':200, 'c':300}\n",
    "sum=0\n",
    "for i in inp:\n",
    "    sum=sum+inp[i]\n",
    "print(sum)"
   ]
  },
  {
   "cell_type": "markdown",
   "metadata": {},
   "source": [
    "#  5 Python | Ways to remove a key from dictionary"
   ]
  },
  {
   "cell_type": "code",
   "execution_count": 47,
   "metadata": {},
   "outputs": [
    {
     "name": "stdout",
     "output_type": "stream",
     "text": [
      "{'Arushi': 22, 'Anuradha': 21, 'Haritha': 21}\n"
     ]
    }
   ],
   "source": [
    "# using del method\n",
    "test_dict = {\"Arushi\" : 22, \"Anuradha\" : 21, \"Mani\" : 21, \"Haritha\" : 21} \n",
    "del test_dict['Mani'] \n",
    "print(test_dict)"
   ]
  },
  {
   "cell_type": "code",
   "execution_count": 48,
   "metadata": {},
   "outputs": [
    {
     "name": "stdout",
     "output_type": "stream",
     "text": [
      "21\n"
     ]
    }
   ],
   "source": [
    "# using pop()\n",
    "test_dict = {\"Arushi\" : 22, \"Anuradha\" : 21, \"Mani\" : 21, \"Haritha\" : 21} \n",
    "value = test_dict.pop('Mani') \n",
    "print(value)"
   ]
  },
  {
   "cell_type": "code",
   "execution_count": 4,
   "metadata": {},
   "outputs": [
    {
     "data": {
      "text/plain": [
       "{'Arushi': 22, 'Mani': 21, 'Haritha': 21}"
      ]
     },
     "execution_count": 4,
     "metadata": {},
     "output_type": "execute_result"
    }
   ],
   "source": [
    "# by using for loop\n",
    "x = {\"Arushi\" : 22, \"Anuradha\" : 21, \"Mani\" : 21, \"Haritha\" : 21} \n",
    "y={}\n",
    "for i in x:\n",
    "    if i==\"Anuradha\":\n",
    "        pass\n",
    "    else:y[i]=x[i]\n",
    "y "
   ]
  },
  {
   "cell_type": "markdown",
   "metadata": {},
   "source": [
    "#  6 sort list of dictionaries by values in Python – Using itemgetter"
   ]
  },
  {
   "cell_type": "code",
   "execution_count": 80,
   "metadata": {},
   "outputs": [
    {
     "name": "stdout",
     "output_type": "stream",
     "text": [
      "[{'name': 'Nikhil', 'age': 19}, {'name': 'Manjeet', 'age': 20}, {'name': 'Nandini', 'age': 21}]\n"
     ]
    }
   ],
   "source": [
    "from operator import itemgetter \n",
    "lis = [{ \"name\" : \"Nandini\", \"age\" : 21},{ \"name\" : \"Manjeet\", \"age\" : 20 },{ \"name\" : \"Nikhil\" , \"age\" : 19 }] \n",
    "print (sorted(lis, key=itemgetter('age')))"
   ]
  },
  {
   "cell_type": "markdown",
   "metadata": {},
   "source": [
    "# 7 sort list of dictionaries by values in Python – Using lambda   function"
   ]
  },
  {
   "cell_type": "code",
   "execution_count": 79,
   "metadata": {},
   "outputs": [
    {
     "name": "stdout",
     "output_type": "stream",
     "text": [
      "[{'name': 'Nikhil', 'age': 19}, {'name': 'Manjeet', 'age': 20}, {'name': 'Nandini', 'age': 21}]\n"
     ]
    }
   ],
   "source": [
    "lis = [{ \"name\" : \"Nandini\", \"age\" : 21},{ \"name\" : \"Manjeet\", \"age\" : 20 },{ \"name\" : \"Nikhil\" , \"age\" : 19 }] \n",
    "print (sorted(lis, key = lambda i: i['age']) )"
   ]
  },
  {
   "cell_type": "markdown",
   "metadata": {},
   "source": [
    "# 8 Merging two Dictionaries"
   ]
  },
  {
   "cell_type": "code",
   "execution_count": 82,
   "metadata": {},
   "outputs": [
    {
     "name": "stdout",
     "output_type": "stream",
     "text": [
      "{'a': 10, 'b': 8, 'd': 6, 'c': 4}\n"
     ]
    }
   ],
   "source": [
    "dict1 = {'a': 10, 'b': 8} \n",
    "dict2 = {'d': 6, 'c': 4} \n",
    "dict1.update(dict2)\n",
    "print(dict1)"
   ]
  },
  {
   "cell_type": "markdown",
   "metadata": {},
   "source": [
    "# 9 Program to create grade calculator in Python "
   ]
  },
  {
   "cell_type": "code",
   "execution_count": 30,
   "metadata": {},
   "outputs": [
    {
     "name": "stdout",
     "output_type": "stream",
     "text": [
      "Grade C\n",
      "Jack Frost None\n",
      "Grade C\n",
      "James Potter None\n",
      "Grade C\n",
      "Dylan Rhodes None\n",
      "Grade E\n",
      "Jessica Stone None\n",
      "Grade E\n",
      "Tom Hanks None\n"
     ]
    }
   ],
   "source": [
    "def average(name):\n",
    "    avg1=0 \n",
    "    avg2=0\n",
    "    avg3=0\n",
    "\n",
    "    for x,y in name.items():\n",
    "        if x=='name':\n",
    "            pass\n",
    "        elif x=='assignment':\n",
    "            avg1=(sum(y)/len(y))\n",
    "        elif x=='test':\n",
    "            avg2=(sum(y)/len(y))\n",
    "        elif x=='lab':\n",
    "             avg3=(sum(y)/len(y))\n",
    "\n",
    "    avg=(avg1*10/100)+(avg2*70/100)+(avg3*20/100)\n",
    "\n",
    "    if avg>=90:print('Grade A')\n",
    "    elif avg>=80:print('Grade B')\n",
    "    elif avg>=70:print('Grade C')\n",
    "    elif avg>=60:print('Grade D')\n",
    "    else:print('Grade E')\n",
    "        \n",
    "jack = { \"name\":\"Jack Frost\",\"assignment\" : [80, 50, 40, 20],\"test\" : [75, 75],\"lab\" : [78.20, 77.20]} \n",
    "james = { \"name\":\"James Potter\",\"assignment\" : [82, 56, 44, 30],\"test\" : [80, 80],\"lab\" : [67.90, 78.72]}\n",
    "dylan = { \"name\" : \"Dylan Rhodes\",\"assignment\" : [77, 82, 23, 39],\"test\" : [78, 77],\"lab\" : [80, 80]}\n",
    "jess = { \"name\" : \"Jessica Stone\",\"assignment\" : [67, 55, 77, 21],\"test\" : [40, 50],\"lab\" : [69, 44.56]}\n",
    "tom = { \"name\" : \"Tom Hanks\",\"assignment\" : [29, 89, 60, 56],\"test\" : [65, 56],\"lab\" : [50, 40.6]} \n",
    "x=[jack,james,dylan,jess,tom]\n",
    "\n",
    "\n",
    "for i in x:\n",
    "    print(i['name'],average(i))\n",
    "\n"
   ]
  },
  {
   "cell_type": "markdown",
   "metadata": {},
   "source": [
    "#  10 Check order of character in string using OrderedDict( )"
   ]
  },
  {
   "cell_type": "code",
   "execution_count": 47,
   "metadata": {},
   "outputs": [
    {
     "name": "stdout",
     "output_type": "stream",
     "text": [
      "{0: 'e', 1: 'n', 2: 'g', 3: 'i', 4: 'n', 5: 'e', 6: 'e', 7: 'r', 8: 's', 9: ' ', 10: 'r', 11: 'o', 12: 'c', 13: 'k'}\n"
     ]
    }
   ],
   "source": [
    "st = \"engineers rock\"\n",
    "pat = \"er\"\n",
    "dic={}\n",
    "for i in range(len(st)):\n",
    "    dic[i]=st[i]\n",
    "print(dic)"
   ]
  },
  {
   "cell_type": "code",
   "execution_count": 49,
   "metadata": {},
   "outputs": [
    {
     "ename": "AttributeError",
     "evalue": "'collections.OrderedDict' object has no attribute 'iteritems'",
     "output_type": "error",
     "traceback": [
      "\u001b[1;31m---------------------------------------------------------------------------\u001b[0m",
      "\u001b[1;31mAttributeError\u001b[0m                            Traceback (most recent call last)",
      "\u001b[1;32m<ipython-input-49-a7512e744a0f>\u001b[0m in \u001b[0;36m<module>\u001b[1;34m\u001b[0m\n\u001b[0;32m     29\u001b[0m     \u001b[0minput\u001b[0m \u001b[1;33m=\u001b[0m \u001b[1;34m'engineers rock'\u001b[0m\u001b[1;33m\u001b[0m\u001b[1;33m\u001b[0m\u001b[0m\n\u001b[0;32m     30\u001b[0m     \u001b[0mpattern\u001b[0m \u001b[1;33m=\u001b[0m \u001b[1;34m'egr'\u001b[0m\u001b[1;33m\u001b[0m\u001b[1;33m\u001b[0m\u001b[0m\n\u001b[1;32m---> 31\u001b[1;33m     \u001b[0mprint\u001b[0m \u001b[1;33m(\u001b[0m\u001b[0mcheckOrder\u001b[0m\u001b[1;33m(\u001b[0m\u001b[0minput\u001b[0m\u001b[1;33m,\u001b[0m\u001b[0mpattern\u001b[0m\u001b[1;33m)\u001b[0m\u001b[1;33m)\u001b[0m\u001b[1;33m\u001b[0m\u001b[1;33m\u001b[0m\u001b[0m\n\u001b[0m",
      "\u001b[1;32m<ipython-input-49-a7512e744a0f>\u001b[0m in \u001b[0;36mcheckOrder\u001b[1;34m(input, pattern)\u001b[0m\n\u001b[0;32m     12\u001b[0m     \u001b[1;31m# are same or not\u001b[0m\u001b[1;33m\u001b[0m\u001b[1;33m\u001b[0m\u001b[1;33m\u001b[0m\u001b[0m\n\u001b[0;32m     13\u001b[0m     \u001b[0mptrlen\u001b[0m \u001b[1;33m=\u001b[0m \u001b[1;36m0\u001b[0m\u001b[1;33m\u001b[0m\u001b[1;33m\u001b[0m\u001b[0m\n\u001b[1;32m---> 14\u001b[1;33m     \u001b[1;32mfor\u001b[0m \u001b[0mkey\u001b[0m\u001b[1;33m,\u001b[0m\u001b[0mvalue\u001b[0m \u001b[1;32min\u001b[0m \u001b[0mdict\u001b[0m\u001b[1;33m.\u001b[0m\u001b[0miteritems\u001b[0m\u001b[1;33m(\u001b[0m\u001b[1;33m)\u001b[0m\u001b[1;33m:\u001b[0m\u001b[1;33m\u001b[0m\u001b[1;33m\u001b[0m\u001b[0m\n\u001b[0m\u001b[0;32m     15\u001b[0m         \u001b[1;32mif\u001b[0m \u001b[1;33m(\u001b[0m\u001b[0mkey\u001b[0m \u001b[1;33m==\u001b[0m \u001b[0mpattern\u001b[0m\u001b[1;33m[\u001b[0m\u001b[0mptrlen\u001b[0m\u001b[1;33m]\u001b[0m\u001b[1;33m)\u001b[0m\u001b[1;33m:\u001b[0m\u001b[1;33m\u001b[0m\u001b[1;33m\u001b[0m\u001b[0m\n\u001b[0;32m     16\u001b[0m             \u001b[0mptrlen\u001b[0m \u001b[1;33m=\u001b[0m \u001b[0mptrlen\u001b[0m \u001b[1;33m+\u001b[0m \u001b[1;36m1\u001b[0m\u001b[1;33m\u001b[0m\u001b[1;33m\u001b[0m\u001b[0m\n",
      "\u001b[1;31mAttributeError\u001b[0m: 'collections.OrderedDict' object has no attribute 'iteritems'"
     ]
    }
   ],
   "source": [
    "# characters defined by a pattern \n",
    "from collections import OrderedDict \n",
    "  \n",
    "def checkOrder(input, pattern): \n",
    "      \n",
    "    # create empty OrderedDict \n",
    "    # output will be like {'a': None,'b': None, 'c': None} \n",
    "    dict = OrderedDict.fromkeys(input) \n",
    "  \n",
    "    # traverse generated OrderedDict parallel with \n",
    "    # pattern string to check if order of characters  \n",
    "    # are same or not \n",
    "    ptrlen = 0 \n",
    "    for key,value in dict.iteritems(): \n",
    "        if (key == pattern[ptrlen]): \n",
    "            ptrlen = ptrlen + 1\n",
    "          \n",
    "        # check if we have traverse complete  \n",
    "        # pattern string \n",
    "        if (ptrlen == (len(pattern))): \n",
    "            return 'true'\n",
    "  \n",
    "    # if we come out from for loop that means  \n",
    "    # order was mismatched \n",
    "    return 'false'\n",
    "   \n",
    "# Driver program \n",
    "if __name__ == \"__main__\": \n",
    "    input = 'engineers rock' \n",
    "    pattern = 'egr'\n",
    "    print (checkOrder(input,pattern)) \n"
   ]
  },
  {
   "cell_type": "markdown",
   "metadata": {},
   "source": [
    "# 11 Find common elements in three sorted arrays by dictionary intersection"
   ]
  },
  {
   "cell_type": "code",
   "execution_count": 50,
   "metadata": {},
   "outputs": [
    {
     "name": "stdout",
     "output_type": "stream",
     "text": [
      "[80, 20]\n"
     ]
    }
   ],
   "source": [
    "'''Input:  ar1 = [1, 5, 10, 20, 40, 80]\n",
    "        ar2 = [6, 7, 20, 80, 100]\n",
    "        ar3 = [3, 4, 15, 20, 30, 70, 80, 120]\n",
    "Output: [80, 20]'''\n",
    "\n",
    "from collections import Counter \n",
    "def commonElement(ar1,ar2,ar3): \n",
    "     # first convert lists into dictionary \n",
    "     ar1 = Counter(ar1) \n",
    "     ar2 = Counter(ar2) \n",
    "     ar3 = Counter(ar3) \n",
    "     \n",
    "     # perform intersection operation \n",
    "     resultDict = dict(ar1.items() & ar2.items() & ar3.items()) \n",
    "     common = [] \n",
    "      \n",
    "     # iterate through resultant dictionary \n",
    "     # and collect common elements \n",
    "     for (key,val) in resultDict.items(): \n",
    "          for i in range(0,val): \n",
    "               common.append(key) \n",
    "  \n",
    "     print(common) \n",
    "  \n",
    "# Driver program \n",
    "if __name__ == \"__main__\": \n",
    "    ar1 = [1, 5, 10, 20, 40, 80] \n",
    "    ar2 = [6, 7, 20, 80, 100] \n",
    "    ar3 = [3, 4, 15, 20, 30, 70, 80, 120] \n",
    "    commonElement(ar1,ar2,ar3)"
   ]
  },
  {
   "cell_type": "code",
   "execution_count": 4,
   "metadata": {},
   "outputs": [
    {
     "name": "stdout",
     "output_type": "stream",
     "text": [
      "20\n",
      "80\n"
     ]
    }
   ],
   "source": [
    "lst = [1, 5, 10, 20, 40, 80] \n",
    "lst1 = [6, 7, 20, 80, 100] \n",
    "lst2= [3, 4, 15, 20, 30, 70, 80, 120]\n",
    "\n",
    "for i in lst:\n",
    "    if i in lst1 and lst2:\n",
    "        print(i)"
   ]
  },
  {
   "cell_type": "markdown",
   "metadata": {},
   "source": [
    "#  12 Dictionary and counter in Python to find winner of election"
   ]
  },
  {
   "cell_type": "code",
   "execution_count": 27,
   "metadata": {},
   "outputs": [
    {
     "name": "stdout",
     "output_type": "stream",
     "text": [
      "john 5\n"
     ]
    }
   ],
   "source": [
    "from collections import Counter \n",
    "votes= [ \"john\", \"johnny\", \"jackie\", \n",
    "                    \"johnny\", \"john\", \"jackie\", \n",
    "                    \"jamie\", \"jamie\", \"john\",\n",
    "                    \"johnny\", \"jamie\", \"johnny\", \n",
    "                    \"john\",\"john\"]\n",
    "\n",
    "vots=Counter(votes)\n",
    "nm=0\n",
    "ln=0\n",
    "for x,y in vots.items():\n",
    "    if y>=nm:\n",
    "        nm=y\n",
    "        print(x,y)   "
   ]
  },
  {
   "cell_type": "markdown",
   "metadata": {},
   "source": [
    "# 13 Find all duplicate characters in string"
   ]
  },
  {
   "cell_type": "code",
   "execution_count": 6,
   "metadata": {},
   "outputs": [
    {
     "name": "stdout",
     "output_type": "stream",
     "text": [
      "g 2\n",
      "e 5\n",
      "k 2\n",
      "s 2\n"
     ]
    }
   ],
   "source": [
    "from collections import Counter \n",
    "\n",
    "inp='geeksforgeeeks'\n",
    "oup= Counter(inp)\n",
    "\n",
    "for x,y in oup.items():\n",
    "    if y>1:\n",
    "        print(x,y)\n"
   ]
  },
  {
   "cell_type": "markdown",
   "metadata": {},
   "source": [
    "# 14 Print anagrams together in Python using List and Dictionary"
   ]
  },
  {
   "cell_type": "code",
   "execution_count": 4,
   "metadata": {},
   "outputs": [
    {
     "data": {
      "text/plain": [
       "{'act': ['cat', 'tac', 'act'], 'dgo': ['dog', 'god']}"
      ]
     },
     "execution_count": 4,
     "metadata": {},
     "output_type": "execute_result"
    }
   ],
   "source": [
    "inp=['cat', 'dog', 'tac', 'god', 'act'] \n",
    "oup={}\n",
    "for i in inp: \n",
    "    key = ''.join(sorted(i)) \n",
    "    if  key in oup.keys():\n",
    "        oup[key].append(i)\n",
    "    else:\n",
    "        oup[key]= []\n",
    "        oup[key].append(i)\n",
    "\n",
    "oup"
   ]
  },
  {
   "cell_type": "code",
   "execution_count": 7,
   "metadata": {},
   "outputs": [
    {
     "data": {
      "text/plain": [
       "'cat tac act dog god '"
      ]
     },
     "execution_count": 7,
     "metadata": {},
     "output_type": "execute_result"
    }
   ],
   "source": [
    "def allAnagram(inp):\n",
    "    \n",
    "    dict = {} \n",
    "    \n",
    "    for strVal in inp: \n",
    "        \n",
    "        key = ''.join(sorted(strVal))\n",
    "        \n",
    "        if key in dict.keys(): \n",
    "            dict[key].append(strVal) \n",
    "            \n",
    "        else: \n",
    "            dict[key] = [] \n",
    "            dict[key].append(strVal) \n",
    "    output=\"\"\n",
    "    \n",
    "    for key,value in dict.items(): \n",
    "         output = output + ' '.join(value) + ' '\n",
    "    return output\n",
    "            \n",
    "inp=['cat', 'dog', 'tac', 'god', 'act'] \n",
    "\n",
    "allAnagram(inp)                "
   ]
  },
  {
   "cell_type": "markdown",
   "metadata": {},
   "source": [
    "# 15 K’th Non-repeating Character in Python using List Comprehension and OrderedDict"
   ]
  },
  {
   "cell_type": "code",
   "execution_count": 25,
   "metadata": {},
   "outputs": [
    {
     "name": "stdout",
     "output_type": "stream",
     "text": [
      "Enter kth:3\n",
      "r\n"
     ]
    }
   ],
   "source": [
    "from collections import Counter \n",
    "\n",
    "st = \"geeksforgeeks\"\n",
    "st1=Counter(st)\n",
    "oup=\"1\"\n",
    "for i,j in st1.items():\n",
    "    if j==1:\n",
    "        oup+=i\n",
    "k=int(input('Enter kth:'))    \n",
    "if k>0 and k<=len(oup):\n",
    "    print(oup[k])\n",
    "else:print('Out of range')"
   ]
  },
  {
   "cell_type": "code",
   "execution_count": 2,
   "metadata": {},
   "outputs": [
    {
     "name": "stdout",
     "output_type": "stream",
     "text": [
      "Enter kth:4\n"
     ]
    },
    {
     "data": {
      "text/plain": [
       "3"
      ]
     },
     "execution_count": 2,
     "metadata": {},
     "output_type": "execute_result"
    }
   ],
   "source": [
    "from collections import Counter\n",
    "k=int(input('Enter kth:'))\n",
    "st = \"geeksforgeeks\"\n",
    "st1=Counter(st)\n",
    "n= [key for (key,value) in st1.items() if value==1]\n",
    "len(n)\n"
   ]
  },
  {
   "cell_type": "markdown",
   "metadata": {},
   "source": [
    "# 16 Check if binary representations of two numbers are anagram"
   ]
  },
  {
   "cell_type": "code",
   "execution_count": 4,
   "metadata": {},
   "outputs": [
    {
     "name": "stdout",
     "output_type": "stream",
     "text": [
      "Yes\n"
     ]
    }
   ],
   "source": [
    "from collections import Counter \n",
    "def checkAnagram(num1,num2): \n",
    "    bin1 = bin(num1)[2:] \n",
    "    bin2 = bin(num2)[2:] \n",
    "    \n",
    "    zeros = abs(len(bin1)-len(bin2)) \n",
    "    if (len(bin1)>len(bin2)): \n",
    "         bin2 = zeros * '0' + bin2 \n",
    "    else: \n",
    "         bin1 = zeros * '0' + bin1 \n",
    "            \n",
    "    dict1 = Counter(bin1) \n",
    "    dict2 = Counter(bin2) \n",
    "    \n",
    "    if dict1 == dict2: \n",
    "         print('Yes') \n",
    "    else: \n",
    "         print('No') \n",
    "            \n",
    "num1 = 8\n",
    "num2 = 4\n",
    "checkAnagram(num1,num2) "
   ]
  },
  {
   "cell_type": "markdown",
   "metadata": {},
   "source": [
    "# 17 Python Counter to find the size of largest subset of anagram words"
   ]
  },
  {
   "cell_type": "code",
   "execution_count": 55,
   "metadata": {},
   "outputs": [
    {
     "name": "stdout",
     "output_type": "stream",
     "text": [
      "magenta\n"
     ]
    }
   ],
   "source": [
    "inp = 'ant magenta magnate tan gnamate'\n",
    "inp= inp.split()\n",
    "val=''\n",
    "for i in inp:\n",
    "    if len(i)>len(val):\n",
    "        val=i\n",
    "print(val)"
   ]
  },
  {
   "cell_type": "code",
   "execution_count": 8,
   "metadata": {},
   "outputs": [
    {
     "name": "stdout",
     "output_type": "stream",
     "text": [
      "3\n"
     ]
    }
   ],
   "source": [
    "from collections import Counter \n",
    "\n",
    "def maxAnagramSize(inp):\n",
    "    inp = inp.split(\" \") \n",
    "    \n",
    "    for i in range(0,len(inp)): \n",
    "         inp[i]=''.join(sorted(inp[i])) \n",
    "    \n",
    "    freqDict = Counter(inp)\n",
    "    \n",
    "    print (max(freqDict.values())) \n",
    "\n",
    "inp = 'ant magenta magnate tan gnamate'\n",
    "maxAnagramSize(inp) "
   ]
  },
  {
   "cell_type": "markdown",
   "metadata": {},
   "source": [
    "#  18 Remove all duplicates words from a given sentence"
   ]
  },
  {
   "cell_type": "code",
   "execution_count": 3,
   "metadata": {},
   "outputs": [
    {
     "name": "stdout",
     "output_type": "stream",
     "text": [
      "Python is great and Java also\n"
     ]
    }
   ],
   "source": [
    "from collections import Counter \n",
    "\n",
    "def remov_duplicates(inp): \n",
    "    \n",
    "    inp = inp.split(\" \") \n",
    "    for i in range(0, len(inp)): \n",
    "        inp[i] = \"\".join(inp[i]) \n",
    "    \n",
    "    UniqW = Counter(inp) \n",
    "    s = \" \".join(UniqW.keys()) \n",
    "    print (s) \n",
    "    \n",
    "inp = 'Python is great and Java is also great'\n",
    "\n",
    "remov_duplicates(inp)"
   ]
  },
  {
   "cell_type": "code",
   "execution_count": 6,
   "metadata": {},
   "outputs": [
    {
     "data": {
      "text/plain": [
       "'Python is great and Java also'"
      ]
     },
     "execution_count": 6,
     "metadata": {},
     "output_type": "execute_result"
    }
   ],
   "source": [
    "from collections import Counter\n",
    "\n",
    "ip='Python is great and Java is also great'\n",
    "ip=ip.split(\" \")\n",
    "op=Counter(ip)\n",
    "s=\" \".join(op.keys())\n",
    "s"
   ]
  },
  {
   "cell_type": "markdown",
   "metadata": {},
   "source": [
    "# 19 Dictionary to find mirror characters in a string"
   ]
  },
  {
   "cell_type": "code",
   "execution_count": 14,
   "metadata": {},
   "outputs": [
    {
     "name": "stdout",
     "output_type": "stream",
     "text": [
      "paizwlc\n"
     ]
    }
   ],
   "source": [
    "def mirrorChars(inp,k):\n",
    "    \n",
    "    ori = 'abcdefghijklmnopqrstuvwxyz'\n",
    "    rev = 'zyxwvutsrqponmlkjihgfedcba'\n",
    "    dicch = dict(zip(ori,rev))\n",
    "    \n",
    "    prefix = inp[0:k-1] \n",
    "    suffix = inp[k-1:] \n",
    "    mirror = '' \n",
    "    \n",
    "    for i in range(0,len(suffix)): \n",
    "         mirror = mirror + dicch[suffix[i]] \n",
    "\n",
    "    print (prefix+mirror) \n",
    "    \n",
    "inp = 'paradox'\n",
    "k = 3\n",
    "mirrorChars(inp,k) "
   ]
  },
  {
   "cell_type": "markdown",
   "metadata": {},
   "source": [
    "# 20 Counting the frequencies in a list using dictionary in Python"
   ]
  },
  {
   "cell_type": "code",
   "execution_count": 2,
   "metadata": {},
   "outputs": [
    {
     "name": "stdout",
     "output_type": "stream",
     "text": [
      "{1: 5, 5: 2, 3: 3, 4: 3, 2: 4}\n"
     ]
    }
   ],
   "source": [
    "def CountFrequency(my_list): \n",
    "    freq = {} \n",
    "    for item in my_list: \n",
    "        if (item in freq): \n",
    "            freq[item] += 1\n",
    "        else: \n",
    "            freq[item] = 1\n",
    "            \n",
    "    print(freq)\n",
    "my_list =[1, 1, 1, 5, 5, 3, 1, 3, 3, 1, 4, 4, 4, 2, 2, 2, 2] \n",
    "  \n",
    "CountFrequency(my_list)             \n",
    "\n"
   ]
  },
  {
   "cell_type": "code",
   "execution_count": 4,
   "metadata": {},
   "outputs": [
    {
     "data": {
      "text/plain": [
       "{1: 5, 5: 2, 3: 3, 4: 3, 2: 4}"
      ]
     },
     "execution_count": 4,
     "metadata": {},
     "output_type": "execute_result"
    }
   ],
   "source": [
    "lst=[1, 1, 1, 5, 5, 3, 1, 3, 3, 1, 4, 4, 4, 2, 2, 2, 2] \n",
    "em={}\n",
    "for i in lst:\n",
    "    if (i in em):\n",
    "        em[i]+=1\n",
    "    else:\n",
    "        em[i]=1\n",
    "em"
   ]
  },
  {
   "cell_type": "markdown",
   "metadata": {},
   "source": [
    "# 21 Convert a list of Tuples into Dictionary"
   ]
  },
  {
   "cell_type": "code",
   "execution_count": 11,
   "metadata": {},
   "outputs": [
    {
     "name": "stdout",
     "output_type": "stream",
     "text": [
      "{'akash': [10], 'gaurav': [12], 'anand': [14], 'suraj': [20], 'akhil': [25], 'ashish': [30]}\n"
     ]
    }
   ],
   "source": [
    "tups = [(\"akash\", 10), (\"gaurav\", 12), (\"anand\", 14),(\"suraj\", 20), (\"akhil\", 25), (\"ashish\", 30)] \n",
    "dic={}\n",
    "for a,b in tups:\n",
    "    dic[a]=[b]\n",
    "print(dic)"
   ]
  },
  {
   "cell_type": "markdown",
   "metadata": {},
   "source": [
    "# 22 Python counter and dictionary intersection example \n",
    "# (Make a string using deletion and rearrangement)"
   ]
  },
  {
   "cell_type": "code",
   "execution_count": 5,
   "metadata": {},
   "outputs": [
    {
     "name": "stdout",
     "output_type": "stream",
     "text": [
      "Counter({'e': 1, 'l': 1})\n",
      "Not Possible\n"
     ]
    }
   ],
   "source": [
    "from collections import Counter \n",
    "  \n",
    "def makeString(str1,str2): \n",
    "  \n",
    "\n",
    "    dict1 = Counter(str1) \n",
    "    dict2 = Counter(str2) \n",
    "  \n",
    "    result = dict1 & dict2\n",
    "    print(result)\n",
    "    \n",
    "    return result == dict1 \n",
    "  \n",
    "str1 = 'ABHISHEKsinGH'\n",
    "str2 = 'gfhfBHkooIHnfndSHEKsiAnG'\n",
    "\n",
    "\n",
    "\n",
    "if (makeString(str1,str2)==True): \n",
    "    print(\"Possible\") \n",
    "else: \n",
    "    print(\"Not Possible\") \n"
   ]
  },
  {
   "cell_type": "code",
   "execution_count": 10,
   "metadata": {},
   "outputs": [
    {
     "data": {
      "text/plain": [
       "Counter({'e': 1, 'l': 1})"
      ]
     },
     "execution_count": 10,
     "metadata": {},
     "output_type": "execute_result"
    }
   ],
   "source": [
    "str1 = \" Hello\"\n",
    "str2 = \"dnaKfhelddf\"\n",
    "\n",
    "dict1 = Counter(str1) \n",
    "dict2 = Counter(str2)\n",
    "\n",
    "dic=dict1 & dict2\n",
    "dic"
   ]
  },
  {
   "cell_type": "markdown",
   "metadata": {},
   "source": [
    "# 23 dictionary, set and counter to check if frequencies can become same"
   ]
  },
  {
   "cell_type": "code",
   "execution_count": 7,
   "metadata": {},
   "outputs": [
    {
     "name": "stdout",
     "output_type": "stream",
     "text": [
      "Yes\n"
     ]
    }
   ],
   "source": [
    "from collections import Counter\n",
    "\n",
    "def allSame(inp):\n",
    "    dict=Counter(inp) \n",
    "    same = set(dict.values()) \n",
    "    \n",
    "    if (len(same)==1): \n",
    "         print ('Yes')\n",
    "    elif (len(same)==2): \n",
    "         if (list(same)[0]==1): \n",
    "             print('Yes')\n",
    "         else: \n",
    "             print ('No')\n",
    "inp =  'xyyzz'\n",
    "allSame(inp) "
   ]
  },
  {
   "cell_type": "code",
   "execution_count": null,
   "metadata": {},
   "outputs": [],
   "source": []
  }
 ],
 "metadata": {
  "kernelspec": {
   "display_name": "Python 3",
   "language": "python",
   "name": "python3"
  },
  "language_info": {
   "codemirror_mode": {
    "name": "ipython",
    "version": 3
   },
   "file_extension": ".py",
   "mimetype": "text/x-python",
   "name": "python",
   "nbconvert_exporter": "python",
   "pygments_lexer": "ipython3",
   "version": "3.7.3"
  }
 },
 "nbformat": 4,
 "nbformat_minor": 2
}
