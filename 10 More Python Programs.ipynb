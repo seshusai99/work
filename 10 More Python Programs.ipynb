{
 "cells": [
  {
   "cell_type": "markdown",
   "metadata": {},
   "source": [
    "# 1 Python Program to Reverse a linked list"
   ]
  },
  {
   "cell_type": "code",
   "execution_count": 29,
   "metadata": {},
   "outputs": [
    {
     "data": {
      "text/plain": [
       "[50, 40, 30, 20, 10]"
      ]
     },
     "execution_count": 29,
     "metadata": {},
     "output_type": "execute_result"
    }
   ],
   "source": [
    "lst=[10,20,30,40,50]\n",
    "k=(len(lst)-1)\n",
    "lst1=[]\n",
    "\n",
    "for i in range(len(lst)):\n",
    "    lst1.append((lst[k]))\n",
    "    k-=1\n",
    "lst1"
   ]
  },
  {
   "cell_type": "markdown",
   "metadata": {},
   "source": [
    "# 2 Program for Find largest prime factor of a number"
   ]
  },
  {
   "cell_type": "code",
   "execution_count": 5,
   "metadata": {},
   "outputs": [
    {
     "name": "stdout",
     "output_type": "stream",
     "text": [
      "Enter a num:44\n",
      "1\n",
      "2\n",
      "4\n",
      "11\n",
      "22\n"
     ]
    }
   ],
   "source": [
    "n=int(input(\"Enter a num:\"))\n",
    "\n",
    "for i in range(1,n):\n",
    "    if n%i ==0:\n",
    "        print(i)"
   ]
  },
  {
   "cell_type": "code",
   "execution_count": 88,
   "metadata": {},
   "outputs": [
    {
     "name": "stdout",
     "output_type": "stream",
     "text": [
      "328513\n"
     ]
    }
   ],
   "source": [
    "import math\n",
    "\n",
    "def maxPrimeFactors (n): \n",
    "    maxPrime = -1\n",
    "    \n",
    "    while n%2 == 0: \n",
    "        maxPrime = 2\n",
    "        n >>= 1     # equivalent to n /= 2 \n",
    "        \n",
    "    for i in range(3, int(math.sqrt(n)) + 1, 2): \n",
    "        while n % i == 0: \n",
    "            maxPrime = i \n",
    "            n = n / i \n",
    "    if n > 2: \n",
    "        maxPrime = n \n",
    "      \n",
    "    return int(maxPrime) \n",
    "  \n",
    "\n",
    "n = 25698751364526\n",
    "print(maxPrimeFactors(n)) "
   ]
  },
  {
   "cell_type": "markdown",
   "metadata": {},
   "source": [
    "# 3 Program for Efficient program to print all prime factors of a given number"
   ]
  },
  {
   "cell_type": "code",
   "execution_count": 67,
   "metadata": {},
   "outputs": [
    {
     "name": "stdout",
     "output_type": "stream",
     "text": [
      "3\n",
      "3\n",
      "5\n",
      "7\n"
     ]
    }
   ],
   "source": [
    "import math\n",
    "\n",
    "def primeFactors(n): \n",
    "    \n",
    "    while n % 2 == 0: \n",
    "        print(2), \n",
    "        n = n / 2\n",
    "        \n",
    "    for i in range(3,int(math.sqrt(n))+1,2):\n",
    "        \n",
    "        while n % i== 0: \n",
    "            print (i)\n",
    "            n = n / i\n",
    "    \n",
    "    if n > 2: \n",
    "        print(n)\n",
    "        \n",
    "n = 315\n",
    "primeFactors(n) \n"
   ]
  },
  {
   "cell_type": "markdown",
   "metadata": {},
   "source": [
    "# 4 Program for Product of unique prime factors of a number"
   ]
  },
  {
   "cell_type": "code",
   "execution_count": 51,
   "metadata": {},
   "outputs": [
    {
     "name": "stdout",
     "output_type": "stream",
     "text": [
      "22\n"
     ]
    }
   ],
   "source": [
    "def productPrimeFactors(n): \n",
    "    product = 1\n",
    "    for i in range(2, n+1): \n",
    "        if (n % i == 0): \n",
    "            isPrime = 1\n",
    "            \n",
    "            for j in range(2, int(i/2 + 1)): \n",
    "                if (i % j == 0): \n",
    "                    isPrime = 0\n",
    "                    break\n",
    "            if (isPrime): \n",
    "                product = product * i \n",
    "    return product\n",
    "n = 44\n",
    "print (productPrimeFactors(n))                 "
   ]
  },
  {
   "cell_type": "markdown",
   "metadata": {},
   "source": [
    "# 5 Program for Find sum of odd factors of a number"
   ]
  },
  {
   "cell_type": "code",
   "execution_count": 21,
   "metadata": {},
   "outputs": [
    {
     "name": "stdout",
     "output_type": "stream",
     "text": [
      "Enter a num:30\n",
      "[1, 2, 3, 5, 6, 10, 15]\n",
      "sum of odd factors of a 30 is 24\n"
     ]
    }
   ],
   "source": [
    "n=int(input(\"Enter a num:\"))\n",
    "lst=[]\n",
    "for i in range(1,n):\n",
    "    if n%i ==0:\n",
    "        lst.append(i)\n",
    "  \n",
    "print(lst)\n",
    "\n",
    "sum=0\n",
    "for j in lst:\n",
    "    if j%2!=0:\n",
    "        sum+=j\n",
    "print('sum of odd factors of a {} is {}'.format(n,sum))"
   ]
  },
  {
   "cell_type": "markdown",
   "metadata": {},
   "source": [
    "# 6 Python Program for Coin Change"
   ]
  },
  {
   "cell_type": "code",
   "execution_count": 62,
   "metadata": {},
   "outputs": [
    {
     "name": "stdout",
     "output_type": "stream",
     "text": [
      "Enetr value:47\n",
      "11111111111111111111111111111111111111111111111\n",
      "122222222222222222222222\n",
      "2555555555"
     ]
    }
   ],
   "source": [
    "coins=[1,2,5,10]\n",
    "\n",
    "n=int(input('Enetr value:'))\n",
    "\n",
    "for i in coins:\n",
    "    if i==1:\n",
    "        for j in range(1,n+1):\n",
    "            print(i, end='')\n",
    "        print(\"\")\n",
    "    \n",
    "    elif i==2:\n",
    "        if n%2==0:\n",
    "            for j in range(0, n//2):\n",
    "                print(i ,end=\"\")\n",
    "        elif n%2==1:\n",
    "            print(1,end=\"\")\n",
    "            for j in range(0,n//2):\n",
    "                print(i, end=\"\")\n",
    "                \n",
    "        print(\"\")\n",
    "    elif i==5:\n",
    "        if n>=5:\n",
    "            if n%i==0:\n",
    "                k=int(n/i)\n",
    "                for j in range(0,k):\n",
    "                    print(i, end= \"\")\n",
    "            elif n%i!=0:\n",
    "                k=n//i\n",
    "                bal=n-(5*k)\n",
    "                print(bal, end='')\n",
    "                for j in range(0,k):\n",
    "                    print(i, end=\"\")\n",
    "            \n",
    "            "
   ]
  },
  {
   "cell_type": "code",
   "execution_count": null,
   "metadata": {},
   "outputs": [],
   "source": []
  }
 ],
 "metadata": {
  "kernelspec": {
   "display_name": "Python 3",
   "language": "python",
   "name": "python3"
  },
  "language_info": {
   "codemirror_mode": {
    "name": "ipython",
    "version": 3
   },
   "file_extension": ".py",
   "mimetype": "text/x-python",
   "name": "python",
   "nbconvert_exporter": "python",
   "pygments_lexer": "ipython3",
   "version": "3.7.3"
  }
 },
 "nbformat": 4,
 "nbformat_minor": 2
}
