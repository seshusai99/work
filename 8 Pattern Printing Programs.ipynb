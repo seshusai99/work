{
 "cells": [
  {
   "cell_type": "markdown",
   "metadata": {},
   "source": [
    "# 1 Program to print the pattern ‘G’"
   ]
  },
  {
   "cell_type": "code",
   "execution_count": 34,
   "metadata": {},
   "outputs": [
    {
     "name": "stdout",
     "output_type": "stream",
     "text": [
      "  *****  \n",
      " *       \n",
      " *       \n",
      " *       \n",
      " *   *** \n",
      " *     * \n",
      " *     * \n",
      " *     * \n",
      "  *****  \n",
      "\n"
     ]
    }
   ],
   "source": [
    "def Pattern(line): \n",
    "    pat=\"\" \n",
    "    for i in range(0,line):     \n",
    "        for j in range(0,line):      \n",
    "            if ((j == 1 and i != 0 and i != line-1) or ((i == 0 or\n",
    "                i == line-1) and j > 1 and j < line-2) or (i == ((line-1)/2) \n",
    "                and j > line-5 and j < line-1) or (j == line-2 and\n",
    "                i != 0 and i != line-1 and i >=((line-1)/2))):   \n",
    "                pat=pat+\"*\"   \n",
    "            else:       \n",
    "                pat=pat+\" \"   \n",
    "        pat=pat+\"\\n\"   \n",
    "    return pat \n",
    "   \n",
    "# Driver Code \n",
    "line = 9\n",
    "print(Pattern(line))"
   ]
  },
  {
   "cell_type": "markdown",
   "metadata": {},
   "source": [
    "# 2  Print an Inverted Star Pattern"
   ]
  },
  {
   "cell_type": "code",
   "execution_count": 54,
   "metadata": {},
   "outputs": [
    {
     "name": "stdout",
     "output_type": "stream",
     "text": [
      "Enter a num:9\n",
      "*********\n",
      " ********\n",
      "  *******\n",
      "   ******\n",
      "    *****\n",
      "     ****\n",
      "      ***\n",
      "       **\n",
      "        *\n"
     ]
    }
   ],
   "source": [
    "n=int(input('Enter a num:'))\n",
    "for i in range (n, 0, -1): \n",
    "    print((n-i) * ' ' + i * '*')"
   ]
  },
  {
   "cell_type": "code",
   "execution_count": 2,
   "metadata": {},
   "outputs": [
    {
     "name": "stdout",
     "output_type": "stream",
     "text": [
      "Enter a num:9\n",
      "\n",
      "*\n",
      "**\n",
      "***\n",
      "****\n",
      "*****\n",
      "******\n",
      "*******\n",
      "********\n"
     ]
    }
   ],
   "source": [
    "n=int(input('Enter a num:'))\n",
    "for i in range (0,n):\n",
    "    print(i*'*')\n",
    "    "
   ]
  },
  {
   "cell_type": "markdown",
   "metadata": {},
   "source": [
    "#  3 Program to print double sided stair-case pattern"
   ]
  },
  {
   "cell_type": "code",
   "execution_count": 78,
   "metadata": {},
   "outputs": [
    {
     "name": "stdout",
     "output_type": "stream",
     "text": [
      "         *   * \n",
      "         *   * \n",
      "       *   *   *   * \n",
      "       *   *   *   * \n",
      "     *   *   *   *   *   * \n",
      "     *   *   *   *   *   * \n",
      "   *   *   *   *   *   *   *   * \n",
      "   *   *   *   *   *   *   *   * \n",
      " *   *   *   *   *   *   *   *   *   * \n",
      " *   *   *   *   *   *   *   *   *   * \n"
     ]
    }
   ],
   "source": [
    "def pattern(n): \n",
    "\n",
    "    # for loop for rows \n",
    "    for i in range(1,n+1): \n",
    "\n",
    "        # conditional operator \n",
    "        k =i + 1 if(i % 2 != 0) else i \n",
    "\n",
    "        # for loop for printing spaces \n",
    "        for g in range(k,n): \n",
    "            if g>=k: \n",
    "                print(end=\" \") \n",
    "\n",
    "        # according to value of k carry \n",
    "        # out further operation \n",
    "        for j in range(0,k): \n",
    "            if j == k - 1: \n",
    "                print(\" * \") \n",
    "            else: \n",
    "                print(\" * \", end = \" \") \n",
    "\n",
    "\n",
    "# Driver code \n",
    "n = 10\n",
    "pattern(n) "
   ]
  },
  {
   "cell_type": "markdown",
   "metadata": {},
   "source": [
    "# 4 Print with your own font using Python "
   ]
  },
  {
   "cell_type": "code",
   "execution_count": 3,
   "metadata": {},
   "outputs": [
    {
     "name": "stdout",
     "output_type": "stream",
     "text": [
      "..######..\n",
      "..#....#..\n",
      "..######.. \n",
      "..#....#..\n",
      "..#....#..\n",
      "\n",
      "\n",
      "..######..\n",
      "..#....#..\n",
      "..#####... \n",
      "..#....#..\n",
      "..######..\n",
      "\n",
      "\n",
      "..######..\n",
      "..#.......\n",
      "..#....... \n",
      "..#.......\n",
      "..######..\n",
      "\n",
      "\n"
     ]
    }
   ],
   "source": [
    "name=\"abc\"\n",
    "lngth = len(name) \n",
    "l = \"\" \n",
    "  \n",
    "for x in range(0, lngth): \n",
    "    c = name[x] \n",
    "    c = c.upper() \n",
    "      \n",
    "    if (c == \"A\"): \n",
    "        print(\"..######..\\n..#....#..\\n..######..\", end = \" \") \n",
    "        print(\"\\n..#....#..\\n..#....#..\\n\\n\") \n",
    "          \n",
    "    elif (c == \"B\"): \n",
    "        print(\"..######..\\n..#....#..\\n..#####...\", end = \" \") \n",
    "        print(\"\\n..#....#..\\n..######..\\n\\n\") \n",
    "          \n",
    "    elif (c == \"C\"): \n",
    "        print(\"..######..\\n..#.......\\n..#.......\", end = \" \") \n",
    "        print(\"\\n..#.......\\n..######..\\n\\n\") \n",
    "          \n",
    "    elif (c == \"D\"): \n",
    "        print(\"..#####...\\n..#....#..\\n..#....#..\", end = \" \") \n",
    "        print(\"\\n..#....#..\\n..#####...\\n\\n\") \n",
    "          \n",
    "    elif (c == \"E\"): \n",
    "        print(\"..######..\\n..#.......\\n..#####...\", end = \" \") \n",
    "        print(\"\\n..#.......\\n..######..\\n\\n\") \n",
    "          \n",
    "    elif (c == \"F\"): \n",
    "        print(\"..######..\\n..#.......\\n..#####...\", end = \" \") \n",
    "        print(\"\\n..#.......\\n..#.......\\n\\n\") \n",
    "          \n",
    "    elif (c == \"G\"): \n",
    "        print(\"..######..\\n..#.......\\n..#.####..\", end = \" \") \n",
    "        print(\"\\n..#....#..\\n..#####...\\n\\n\") \n",
    "          \n",
    "    elif (c == \"H\"): \n",
    "        print(\"..#....#..\\n..#....#..\\n..######..\", end = \" \") \n",
    "        print(\"\\n..#....#..\\n..#....#..\\n\\n\") \n",
    "          \n",
    "    elif (c == \"I\"): \n",
    "        print(\"..######..\\n....##....\\n....##....\", end = \" \") \n",
    "        print(\"\\n....##....\\n..######..\\n\\n\") \n",
    "          \n",
    "    elif (c == \"J\"): \n",
    "        print(\"..######..\\n....##....\\n....##....\", end = \" \") \n",
    "        print(\"\\n..#.##....\\n..####....\\n\\n\") \n",
    "          \n",
    "    elif (c == \"K\"): \n",
    "        print(\"..#...#...\\n..#..#....\\n..##......\", end = \" \") \n",
    "        print(\"\\n..#..#....\\n..#...#...\\n\\n\") \n",
    "          \n",
    "    elif (c == \"L\"): \n",
    "        print(\"..#.......\\n..#.......\\n..#.......\", end = \" \") \n",
    "        print(\"\\n..#.......\\n..######..\\n\\n\") \n",
    "          \n",
    "    elif (c == \"M\"): \n",
    "        print(\"..#....#..\\n..##..##..\\n..#.##.#..\", end = \" \") \n",
    "        print(\"\\n..#....#..\\n..#....#..\\n\\n\") \n",
    "          \n",
    "    elif (c == \"N\"): \n",
    "        print(\"..#....#..\\n..##...#..\\n..#.#..#..\", end = \" \") \n",
    "        print(\"\\n..#..#.#..\\n..#...##..\\n\\n\") \n",
    "          \n",
    "    elif (c == \"O\"): \n",
    "        print(\"..######..\\n..#....#..\\n..#....#..\", end = \" \") \n",
    "        print(\"\\n..#....#..\\n..######..\\n\\n\") \n",
    "          \n",
    "    elif (c == \"P\"): \n",
    "        print(\"..######..\\n..#....#..\\n..######..\", end = \" \") \n",
    "        print(\"\\n..#.......\\n..#.......\\n\\n\") \n",
    "          \n",
    "    elif (c == \"Q\"): \n",
    "        print(\"..######..\\n..#....#..\\n..#.#..#..\", end = \" \") \n",
    "        print(\"\\n..#..#.#..\\n..######..\\n\\n\") \n",
    "          \n",
    "    elif (c == \"R\"): \n",
    "        print(\"..######..\\n..#....#..\\n..#.##...\", end = \" \") \n",
    "        print(\"\\n..#...#...\\n..#....#..\\n\\n\") \n",
    "          \n",
    "    elif (c == \"S\"): \n",
    "        print(\"..######..\\n..#.......\\n..######..\", end = \" \") \n",
    "        print(\"\\n.......#..\\n..######..\\n\\n\") \n",
    "          \n",
    "    elif (c == \"T\"): \n",
    "        print(\"..######..\\n....##....\\n....##....\", end = \" \") \n",
    "        print(\"\\n....##....\\n....##....\\n\\n\") \n",
    "          \n",
    "    elif (c == \"U\"): \n",
    "        print(\"..#....#..\\n..#....#..\\n..#....#..\", end = \" \") \n",
    "        print(\"\\n..#....#..\\n..######..\\n\\n\") \n",
    "          \n",
    "    elif (c == \"V\"): \n",
    "        print(\"..#....#..\\n..#....#..\\n..#....#..\", end = \" \") \n",
    "        print(\"\\n...#..#...\\n....##....\\n\\n\") \n",
    "          \n",
    "    elif (c == \"W\"): \n",
    "        print(\"..#....#..\\n..#....#..\\n..#.##.#..\", end = \" \") \n",
    "        print(\"\\n..##..##..\\n..#....#..\\n\\n\") \n",
    "          \n",
    "    elif (c == \"X\"): \n",
    "        print(\"..#....#..\\n...#..#...\\n....##....\", end = \" \") \n",
    "        print(\"\\n...#..#...\\n..#....#..\\n\\n\") \n",
    "          \n",
    "    elif (c == \"Y\"): \n",
    "        print(\"..#....#..\\n...#..#...\\n....##....\", end = \" \") \n",
    "        print(\"\\n....##....\\n....##....\\n\\n\") \n",
    "          \n",
    "    elif (c == \"Z\"): \n",
    "        print(\"..######..\\n......#...\\n.....#....\", end = \" \") \n",
    "        print(\"\\n....#.....\\n..######..\\n\\n\") \n",
    "          \n",
    "    elif (c == \" \"): \n",
    "        print(\"..........\\n..........\\n..........\", end = \" \") \n",
    "        print(\"\\n..........\\n\\n\") \n",
    "          \n",
    "    elif (c == \".\"): \n",
    "        print(\"----..----\\n\\n\") "
   ]
  },
  {
   "cell_type": "code",
   "execution_count": null,
   "metadata": {},
   "outputs": [],
   "source": [
    "for i in "
   ]
  }
 ],
 "metadata": {
  "kernelspec": {
   "display_name": "Python 3",
   "language": "python",
   "name": "python3"
  },
  "language_info": {
   "codemirror_mode": {
    "name": "ipython",
    "version": 3
   },
   "file_extension": ".py",
   "mimetype": "text/x-python",
   "name": "python",
   "nbconvert_exporter": "python",
   "pygments_lexer": "ipython3",
   "version": "3.7.3"
  }
 },
 "nbformat": 4,
 "nbformat_minor": 2
}
