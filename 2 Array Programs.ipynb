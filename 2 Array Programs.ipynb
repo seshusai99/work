{
 "cells": [
  {
   "cell_type": "markdown",
   "metadata": {},
   "source": [
    "# 1 Python Program to find sum of array"
   ]
  },
  {
   "cell_type": "code",
   "execution_count": 1,
   "metadata": {},
   "outputs": [
    {
     "data": {
      "text/plain": [
       "15"
      ]
     },
     "execution_count": 1,
     "metadata": {},
     "output_type": "execute_result"
    }
   ],
   "source": [
    "#typecode (must be b, B, u, h, H, i, I, l, L, q, Q, f or d)\n",
    "#array() argument 1 must be a unicode character\n",
    "\n",
    "import array as arr\n",
    "\n",
    "a = arr.array('i',[1,2,3,4,5])\n",
    "sum(a)"
   ]
  },
  {
   "cell_type": "code",
   "execution_count": 13,
   "metadata": {},
   "outputs": [
    {
     "name": "stdout",
     "output_type": "stream",
     "text": [
      "sum of array a is 15\n"
     ]
    }
   ],
   "source": [
    "import array as arr\n",
    "\n",
    "a = arr.array('i',[1,2,3,4,5])\n",
    "sum=0\n",
    "for j in a:\n",
    "    sum+=j\n",
    "print('sum of array a is',sum)    "
   ]
  },
  {
   "cell_type": "markdown",
   "metadata": {},
   "source": [
    "#  2 Python Program to find largest element in an array"
   ]
  },
  {
   "cell_type": "code",
   "execution_count": 2,
   "metadata": {},
   "outputs": [
    {
     "name": "stdout",
     "output_type": "stream",
     "text": [
      "9\n"
     ]
    }
   ],
   "source": [
    "import array as arr\n",
    "a = arr.array('i',[3,4,5,2,7,9,5,8])\n",
    "b=[]\n",
    "for j in a:\n",
    "    b.append(j)\n",
    "b.sort()\n",
    "print(b[-1])"
   ]
  },
  {
   "cell_type": "markdown",
   "metadata": {},
   "source": [
    "# 3 Python Program for array rotation"
   ]
  },
  {
   "cell_type": "code",
   "execution_count": 10,
   "metadata": {},
   "outputs": [
    {
     "name": "stdout",
     "output_type": "stream",
     "text": [
      "[8, 5, 9, 7, 2, 5, 4, 3]\n"
     ]
    }
   ],
   "source": [
    "import array as arr\n",
    "a = arr.array('i',[3,4,5,2,7,9,5,8])\n",
    "b=[]\n",
    "for j in a:\n",
    "    b.append(j)\n",
    "\n",
    "b.reverse()\n",
    "print(b)"
   ]
  },
  {
   "cell_type": "markdown",
   "metadata": {},
   "source": [
    "# 4 Python Program for Reversal algorithm for array rotation"
   ]
  },
  {
   "cell_type": "code",
   "execution_count": 5,
   "metadata": {},
   "outputs": [
    {
     "name": "stdout",
     "output_type": "stream",
     "text": [
      "3\n",
      "4\n",
      "5\n",
      "6\n",
      "7\n",
      "1\n",
      "2\n"
     ]
    }
   ],
   "source": [
    "def rverseArray(arr, start, end): \n",
    "    while (start < end): \n",
    "        temp = arr[start] \n",
    "        arr[start] = arr[end] \n",
    "        arr[end] = temp \n",
    "        start += 1\n",
    "        end = end-1\n",
    "def leftRotate(arr, d): \n",
    "    n = len(arr) \n",
    "    rverseArray(arr, 0, d-1) \n",
    "    rverseArray(arr, d, n-1) \n",
    "    rverseArray(arr, 0, n-1) \n",
    "\n",
    "def printArray(arr): \n",
    "    for i in range(0, len(arr)): \n",
    "        print(arr[i])\n",
    "arr = [1, 2, 3, 4, 5, 6, 7] \n",
    "leftRotate(arr, 2) # Rotate array by 2 \n",
    "printArray(arr) "
   ]
  },
  {
   "cell_type": "markdown",
   "metadata": {},
   "source": [
    "# 5 Python Program to Split the array and add the first part to the end "
   ]
  },
  {
   "cell_type": "code",
   "execution_count": 18,
   "metadata": {},
   "outputs": [
    {
     "name": "stdout",
     "output_type": "stream",
     "text": [
      "Split point:3\n",
      "[6, 7, 8, 9, 3, 4, 5]\n"
     ]
    }
   ],
   "source": [
    "import array as arr\n",
    "a = arr.array('i',[3,4,5,6,7,8,9])\n",
    "b=int(input('Split point:'))\n",
    "c=[]\n",
    "for j in a[b::]:\n",
    "    c.append(j)\n",
    "for k in a[0:b]:\n",
    "    c.append(k)\n",
    "\n",
    "print(c)"
   ]
  },
  {
   "cell_type": "markdown",
   "metadata": {},
   "source": [
    "# 6 Python Program for Find remainder of array multiplication divided by n"
   ]
  },
  {
   "cell_type": "code",
   "execution_count": 21,
   "metadata": {},
   "outputs": [
    {
     "name": "stdout",
     "output_type": "stream",
     "text": [
      "Enter nth val:11\n",
      "remainder of array multiplication divided by n 9\n"
     ]
    }
   ],
   "source": [
    "import array as arr\n",
    "a = arr.array('i',[100, 10, 5, 25, 35, 14])\n",
    "n=int(input('Enter nth val:'))\n",
    "val=1\n",
    "for j in a:\n",
    "    val=val*j\n",
    "rem=val%n\n",
    "print('remainder of array multiplication divided by n', rem)"
   ]
  },
  {
   "cell_type": "markdown",
   "metadata": {},
   "source": [
    "#  7 Reconstruct the array by replacing arr[i] with (arr[i-1]+1) % M"
   ]
  },
  {
   "cell_type": "code",
   "execution_count": 1,
   "metadata": {},
   "outputs": [
    {
     "name": "stdout",
     "output_type": "stream",
     "text": [
      "5 6 0 1 2 3\n"
     ]
    }
   ],
   "source": [
    "def construct(n, m, a): \n",
    "    ind = 0\n",
    "    for i in range(n): \n",
    "        if (a[i]!=-1): \n",
    "            ind = i \n",
    "            break\n",
    "    for i in range(ind-1, -1, -1): \n",
    "        if (a[i]==-1): \n",
    "            a[i]=(a[i + 1]-1 + m)% m \n",
    "    for i in range(ind + 1, n): \n",
    "        if(a[i]==-1): \n",
    "            a[i]=(a[i-1]+1)% m \n",
    "    print(*a) \n",
    "n, m = 6, 7\n",
    "a =[5, -1, -1, 1, 2, 3] \n",
    "construct(n, m, a) "
   ]
  },
  {
   "cell_type": "markdown",
   "metadata": {},
   "source": [
    "# 8 Python Program to check if given array is Monotonic"
   ]
  },
  {
   "cell_type": "code",
   "execution_count": 2,
   "metadata": {},
   "outputs": [
    {
     "name": "stdout",
     "output_type": "stream",
     "text": [
      "False\n"
     ]
    }
   ],
   "source": [
    "def isMonotonic(A): \n",
    "\n",
    "\treturn (all(A[i] <= A[i + 1] for i in range(len(A) - 1)) or\n",
    "\t\t\tall(A[i] >= A[i + 1] for i in range(len(A) - 1))) \n",
    "\n",
    "# Driver program \n",
    "A = [10,15,22,20,25] \n",
    "\n",
    "# Print required result \n",
    "print(isMonotonic(A)) "
   ]
  },
  {
   "cell_type": "code",
   "execution_count": null,
   "metadata": {},
   "outputs": [],
   "source": []
  }
 ],
 "metadata": {
  "kernelspec": {
   "display_name": "Python 3",
   "language": "python",
   "name": "python3"
  },
  "language_info": {
   "codemirror_mode": {
    "name": "ipython",
    "version": 3
   },
   "file_extension": ".py",
   "mimetype": "text/x-python",
   "name": "python",
   "nbconvert_exporter": "python",
   "pygments_lexer": "ipython3",
   "version": "3.7.3"
  }
 },
 "nbformat": 4,
 "nbformat_minor": 2
}
