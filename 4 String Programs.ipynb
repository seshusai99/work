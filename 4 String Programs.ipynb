{
 "cells": [
  {
   "cell_type": "markdown",
   "metadata": {},
   "source": [
    "# 1 Python program to check if a string is palindrome or not"
   ]
  },
  {
   "cell_type": "code",
   "execution_count": 15,
   "metadata": {},
   "outputs": [
    {
     "name": "stdout",
     "output_type": "stream",
     "text": [
      "Yes\n"
     ]
    }
   ],
   "source": [
    "x=\"malayalam\"\n",
    "w=''\n",
    "for i in x:\n",
    "    w=i+w\n",
    "if x==w:\n",
    "    print('Yes')\n",
    "else:print('No')\n"
   ]
  },
  {
   "cell_type": "code",
   "execution_count": 21,
   "metadata": {},
   "outputs": [
    {
     "name": "stdout",
     "output_type": "stream",
     "text": [
      "no\n"
     ]
    }
   ],
   "source": [
    "x=\"seshu\"\n",
    "w=x[::-1]\n",
    "if x==w:\n",
    "    print('Yes')\n",
    "else:print('No')"
   ]
  },
  {
   "cell_type": "markdown",
   "metadata": {},
   "source": [
    "#  2 Reverse words in a given String in Python"
   ]
  },
  {
   "cell_type": "code",
   "execution_count": 8,
   "metadata": {},
   "outputs": [
    {
     "data": {
      "text/plain": [
       "'code practice quiz geeks'"
      ]
     },
     "execution_count": 8,
     "metadata": {},
     "output_type": "execute_result"
    }
   ],
   "source": [
    "str = \"geeks quiz practice code\"\n",
    "str1=str.split(' ')\n",
    "k=str1[::-1]\n",
    "s=' '.join(k)\n",
    "s"
   ]
  },
  {
   "cell_type": "code",
   "execution_count": 23,
   "metadata": {},
   "outputs": [
    {
     "name": "stdout",
     "output_type": "stream",
     "text": [
      "code practice quiz geeks\n"
     ]
    }
   ],
   "source": [
    "str = \"geeks quiz practice code\"\n",
    "ls=[]\n",
    "for i in str.split(' '):\n",
    "    ls.append(i)\n",
    "k=' '.join(ls[::-1])\n",
    "print(k)"
   ]
  },
  {
   "cell_type": "markdown",
   "metadata": {},
   "source": [
    "# 3 Ways to remove i’th character from string in Python"
   ]
  },
  {
   "cell_type": "code",
   "execution_count": 36,
   "metadata": {},
   "outputs": [
    {
     "name": "stdout",
     "output_type": "stream",
     "text": [
      "Enter nth letter:1\n"
     ]
    },
    {
     "data": {
      "text/plain": [
       "'GeksForGeeks'"
      ]
     },
     "execution_count": 36,
     "metadata": {},
     "output_type": "execute_result"
    }
   ],
   "source": [
    "str = \"GeeksForGeeks\"\n",
    "n=int(input('Enter nth letter:'))\n",
    "str1=''\n",
    "for i in range(len(str)):\n",
    "    if i!=n:\n",
    "        str1=str1+str[i]\n",
    "\n",
    "str1\n",
    "    "
   ]
  },
  {
   "cell_type": "markdown",
   "metadata": {},
   "source": [
    "#  4 Check if a Substring is Present in a Given String\n"
   ]
  },
  {
   "cell_type": "code",
   "execution_count": 42,
   "metadata": {},
   "outputs": [
    {
     "name": "stdout",
     "output_type": "stream",
     "text": [
      "Yes\n"
     ]
    }
   ],
   "source": [
    "s1 = 'geeks' \n",
    "s2='geeks for geeks'\n",
    "\n",
    "if s1 in s2:\n",
    "    print(\"Yes\")\n",
    "else:print('No')"
   ]
  },
  {
   "cell_type": "markdown",
   "metadata": {},
   "source": [
    "# 5 Find length of a string in python "
   ]
  },
  {
   "cell_type": "code",
   "execution_count": 43,
   "metadata": {},
   "outputs": [
    {
     "name": "stdout",
     "output_type": "stream",
     "text": [
      "5\n"
     ]
    }
   ],
   "source": [
    "str = \"geeks\"\n",
    "print(len(str)) "
   ]
  },
  {
   "cell_type": "code",
   "execution_count": 7,
   "metadata": {},
   "outputs": [
    {
     "data": {
      "text/plain": [
       "5"
      ]
     },
     "execution_count": 7,
     "metadata": {},
     "output_type": "execute_result"
    }
   ],
   "source": [
    "str = \"geeks\"\n",
    "count=0\n",
    "\n",
    "for i in str:\n",
    "    count+=1\n",
    "count   "
   ]
  },
  {
   "cell_type": "code",
   "execution_count": 6,
   "metadata": {},
   "outputs": [
    {
     "data": {
      "text/plain": [
       "5"
      ]
     },
     "execution_count": 6,
     "metadata": {},
     "output_type": "execute_result"
    }
   ],
   "source": [
    "str = \"geeks\"\n",
    "count=0\n",
    "while str[count:]:\n",
    "    count+=1\n",
    "\n",
    "count"
   ]
  },
  {
   "cell_type": "markdown",
   "metadata": {},
   "source": [
    "#  6 Python program to print even length words in a string"
   ]
  },
  {
   "cell_type": "code",
   "execution_count": 15,
   "metadata": {},
   "outputs": [
    {
     "name": "stdout",
     "output_type": "stream",
     "text": [
      "This\n",
      "is\n",
      "python\n",
      "language\n"
     ]
    }
   ],
   "source": [
    " s = \"This is a python language pro\"\n",
    "s1=s.split(' ')\n",
    "\n",
    "for i in s1:\n",
    "    if (len(i))%2==0:\n",
    "        print(i)"
   ]
  },
  {
   "cell_type": "markdown",
   "metadata": {},
   "source": [
    "#  7 Program to accept the strings which contains all vowels"
   ]
  },
  {
   "cell_type": "code",
   "execution_count": 11,
   "metadata": {},
   "outputs": [
    {
     "name": "stdout",
     "output_type": "stream",
     "text": [
      "Enter a string:aeiou\n",
      "No Not Accepted\n"
     ]
    }
   ],
   "source": [
    "# This is accept only all the letters in upper case\n",
    "str=input('Enter a string:')\n",
    "\n",
    "if 'A' and 'E' and 'I' and 'O' and 'U' in str:\n",
    "    print('Yes Accepted')\n",
    "    \n",
    "else:print('No Not Accepted')\n",
    "    "
   ]
  },
  {
   "cell_type": "code",
   "execution_count": 14,
   "metadata": {},
   "outputs": [
    {
     "name": "stdout",
     "output_type": "stream",
     "text": [
      "Enter a string:jdoadaelvoeiecu\n",
      "Yes Accepted\n"
     ]
    }
   ],
   "source": [
    "# This is accept only all the letters in small\n",
    "str=input('Enter a string:')\n",
    "\n",
    "if 'a' and 'e' and 'i' and 'o' and 'u' in str:\n",
    "    print('Yes Accepted')\n",
    "    \n",
    "else:print('No Not Accepted')\n",
    "    "
   ]
  },
  {
   "cell_type": "code",
   "execution_count": 19,
   "metadata": {},
   "outputs": [
    {
     "name": "stdout",
     "output_type": "stream",
     "text": [
      "Enter a string :12364565\n",
      "No Not Accepted\n"
     ]
    }
   ],
   "source": [
    "# convert the string total in small case or upper case\n",
    "vowels='aeiou'\n",
    "str=input('Enter a string :')\n",
    "char=str.lower()\n",
    "\n",
    "if 'a' and 'e' and 'i' and 'o' and 'u' in char:\n",
    "    print('Yes Accepted')\n",
    "    \n",
    "else:print('No Not Accepted')\n",
    "    "
   ]
  },
  {
   "cell_type": "markdown",
   "metadata": {},
   "source": [
    "# 8 Count the Number of matching characters in a pair of string\n"
   ]
  },
  {
   "cell_type": "code",
   "execution_count": 24,
   "metadata": {},
   "outputs": [
    {
     "name": "stdout",
     "output_type": "stream",
     "text": [
      "matching lettere ['a', 'd', 'e', 'f']\n",
      "Number of matchings are: 4\n"
     ]
    }
   ],
   "source": [
    "str1 = 'abcdef'\n",
    "str2 = 'defghia'\n",
    "str=''\n",
    "ls=[]\n",
    "for i in str1:\n",
    "    if i in str2:\n",
    "        str+=i\n",
    "        ls.append(i)\n",
    "print('matching lettere',ls)\n",
    "print('Number of matchings are:',len(str))"
   ]
  },
  {
   "cell_type": "code",
   "execution_count": 26,
   "metadata": {},
   "outputs": [
    {
     "name": "stdout",
     "output_type": "stream",
     "text": [
      "enetr:abcde\n",
      "enter:defgha\n"
     ]
    },
    {
     "data": {
      "text/plain": [
       "(['a', 'd', 'e'], 3)"
      ]
     },
     "execution_count": 26,
     "metadata": {},
     "output_type": "execute_result"
    }
   ],
   "source": [
    "# The above can be write in function also\n",
    "def fun(str1,str2):\n",
    "    str=''\n",
    "    ls=[]\n",
    "    for i in str1:\n",
    "        if i in str2:\n",
    "            str+=i\n",
    "            ls.append(i)\n",
    "    return ls,len(str)\n",
    "\n",
    "str1=input('enetr:')\n",
    "str2=input('enter:')\n",
    "fun(str1,str2)"
   ]
  },
  {
   "cell_type": "markdown",
   "metadata": {},
   "source": [
    "# 9 program to count number of vowels using sets in given string"
   ]
  },
  {
   "cell_type": "code",
   "execution_count": 28,
   "metadata": {},
   "outputs": [
    {
     "name": "stdout",
     "output_type": "stream",
     "text": [
      "Enter the string:SESHUsaibabu\n",
      "Number of Vowels : 6\n"
     ]
    }
   ],
   "source": [
    "str = input(\"Enter the string:\")\n",
    "vowels='AEIOUaeiou'\n",
    "count=0\n",
    "for i in str:\n",
    "    if i in vowels:\n",
    "        count+=1\n",
    "print('Number of Vowels :',count)       "
   ]
  },
  {
   "cell_type": "markdown",
   "metadata": {},
   "source": [
    "#  10 Remove all duplicates from a given string in Python"
   ]
  },
  {
   "cell_type": "code",
   "execution_count": 29,
   "metadata": {},
   "outputs": [
    {
     "name": "stdout",
     "output_type": "stream",
     "text": [
      "Enter the string:geeksforgeeks\n"
     ]
    },
    {
     "data": {
      "text/plain": [
       "'geksfor'"
      ]
     },
     "execution_count": 29,
     "metadata": {},
     "output_type": "execute_result"
    }
   ],
   "source": [
    "# By Using membership operator with for loop\n",
    "str = input(\"Enter the string:\")\n",
    "\n",
    "str1=''\n",
    "\n",
    "for i in str:\n",
    "    if i not in str1:\n",
    "        str1+=i\n",
    "str1"
   ]
  },
  {
   "cell_type": "markdown",
   "metadata": {},
   "source": [
    "# 11 Program to check if a string contains any special character"
   ]
  },
  {
   "cell_type": "code",
   "execution_count": 37,
   "metadata": {},
   "outputs": [
    {
     "name": "stdout",
     "output_type": "stream",
     "text": [
      "Enter the string:Geeks$For$Geeks\n",
      "String is accepted\n"
     ]
    }
   ],
   "source": [
    "str = input(\"Enter the string:\")\n",
    "spl= '@_!#$%^&*()<>?/\\|}{~:'\n",
    "str1=''\n",
    "for i in str:\n",
    "    if i in spl:\n",
    "        str1+=i\n",
    "if len(str1)!=0:\n",
    "    print('String is accepted')\n",
    "else:print('String is Not accepted')"
   ]
  },
  {
   "cell_type": "markdown",
   "metadata": {},
   "source": [
    "#  12 Generating random strings until a given string is generated"
   ]
  },
  {
   "cell_type": "code",
   "execution_count": 1,
   "metadata": {},
   "outputs": [
    {
     "name": "stdout",
     "output_type": "stream",
     "text": [
      "!Le?\n",
      ".Xee\n",
      " Le?\n",
      "E;eM\n",
      "K e \n",
      "D ej\n",
      "9TeM\n",
      "6feJ\n",
      "RZeI\n",
      "5Bew\n",
      "kAeN\n",
      "sPew\n",
      "i9e8\n",
      "dce5\n",
      "Ihe1\n",
      "08eF\n",
      "!4ex\n",
      "2peB\n",
      "CFe2\n",
      "KPeT\n",
      "kleT\n",
      "g em\n",
      "goeM\n",
      "g!e4\n",
      "gqe \n",
      "geea\n",
      "gee:\n",
      "geeO\n",
      "geeS\n",
      "gee3\n",
      "gee;\n",
      "geeI\n",
      "geeR\n",
      "gee!\n",
      "geeu\n",
      "geej\n",
      "geeg\n",
      "geex\n",
      "gee!\n",
      "geeq\n",
      "geeK\n",
      "gee5\n",
      "geeM\n",
      "gee.\n",
      "gee4\n",
      "gee \n",
      "geeG\n",
      "gee9\n",
      "geeT\n",
      "geev\n",
      "geeV\n",
      "geeQ\n",
      "geea\n",
      "geeZ\n",
      "geej\n",
      "geeq\n",
      "geec\n",
      "geec\n",
      "gee8\n",
      "geeM\n",
      "gee4\n",
      "geeF\n",
      "geeQ\n",
      "geeK\n",
      "gee,\n",
      "gee5\n",
      "geet\n",
      "gee?\n",
      "gee \n",
      "geeu\n",
      "geev\n",
      "gees\n",
      "gee8\n",
      "geeh\n",
      "geeg\n",
      "geeM\n",
      "geev\n",
      "gee7\n",
      "gee!\n",
      "gee.\n",
      "geek\n",
      "Target matched after 324 iterations\n"
     ]
    }
   ],
   "source": [
    "import string \n",
    "import random \n",
    "import time \n",
    "\n",
    "possibleCharacters = string.ascii_lowercase + string.digits +string.ascii_uppercase + ' ., !?;:'\n",
    "\n",
    "t = \"geek\"\n",
    "\n",
    "attemptThis = ''.join(random.choice(possibleCharacters) \n",
    "                                for i in range(len(t))) \n",
    "attemptNext = '' \n",
    "  \n",
    "completed = False\n",
    "iteration = 0\n",
    "\n",
    "while completed == False: \n",
    "    print(attemptThis) \n",
    "      \n",
    "    attemptNext = '' \n",
    "    completed = True\n",
    "    for i in range(len(t)): \n",
    "        if attemptThis[i] != t[i]: \n",
    "            completed = False\n",
    "            attemptNext += random.choice(possibleCharacters) \n",
    "        else: \n",
    "            attemptNext += t[i]\n",
    "        \n",
    "        iteration += 1\n",
    "    attemptThis = attemptNext \n",
    "    time.sleep(0.1) \n",
    "\n",
    "print(\"Target matched after \" +\n",
    "      str(iteration) + \" iterations\") \n"
   ]
  },
  {
   "cell_type": "markdown",
   "metadata": {},
   "source": [
    "# 13 Find words which are greater than given length k"
   ]
  },
  {
   "cell_type": "code",
   "execution_count": 2,
   "metadata": {},
   "outputs": [
    {
     "name": "stdout",
     "output_type": "stream",
     "text": [
      "Enter length k :3\n",
      "hello\n",
      "geeks\n",
      "for\n",
      "geeks\n",
      "computer\n",
      "science\n",
      "portal\n"
     ]
    }
   ],
   "source": [
    "str = \"hello geeks for geeks is computer science portal\" \n",
    "str1=str.split(' ')\n",
    "k=int(input('Enter length k :'))\n",
    "\n",
    "for i in str1:\n",
    "    if len(i)>=k:\n",
    "        print(i)"
   ]
  },
  {
   "cell_type": "markdown",
   "metadata": {},
   "source": [
    "# 14 Python program for removing i-th character from a string"
   ]
  },
  {
   "cell_type": "code",
   "execution_count": 18,
   "metadata": {},
   "outputs": [
    {
     "name": "stdout",
     "output_type": "stream",
     "text": [
      "Enter a string :peter\n",
      "Enetr ith val:4\n",
      "petr\n"
     ]
    }
   ],
   "source": [
    "inp=input('Enter a string :')\n",
    "j=int(input('Enetr ith val:'))\n",
    "inp1=''\n",
    "k=0\n",
    "for i in inp:\n",
    "    k+=1\n",
    "    if k==j:\n",
    "        pass\n",
    "    else:inp1+=i\n",
    "print(inp1)      "
   ]
  },
  {
   "cell_type": "markdown",
   "metadata": {},
   "source": [
    "# 15 Python program to split and join a string"
   ]
  },
  {
   "cell_type": "code",
   "execution_count": 19,
   "metadata": {},
   "outputs": [
    {
     "name": "stdout",
     "output_type": "stream",
     "text": [
      "hello-geeks-for-geeks-is-computer-science-portal\n"
     ]
    }
   ],
   "source": [
    "str = \"hello geeks for geeks is computer science portal\" \n",
    "str1=str.split(' ')\n",
    "str2='-'.join(str1)\n",
    "print(str2)"
   ]
  },
  {
   "cell_type": "markdown",
   "metadata": {},
   "source": [
    "# 16 Python | Check if a given string is binary string or not"
   ]
  },
  {
   "cell_type": "code",
   "execution_count": 12,
   "metadata": {},
   "outputs": [
    {
     "name": "stdout",
     "output_type": "stream",
     "text": [
      "Yes\n"
     ]
    }
   ],
   "source": [
    "str = \"01010101010\"\n",
    "bi='01'\n",
    "str1='' \n",
    "for i in str:\n",
    "    if i in bi:\n",
    "        str1+=i\n",
    "\n",
    "if str==str1:\n",
    "    print('Yes')\n",
    "else:print('No')\n",
    "    \n",
    "        "
   ]
  },
  {
   "cell_type": "markdown",
   "metadata": {},
   "source": [
    "# 17 Python | Find all close matches of input string from a list"
   ]
  },
  {
   "cell_type": "code",
   "execution_count": 3,
   "metadata": {},
   "outputs": [
    {
     "name": "stdout",
     "output_type": "stream",
     "text": [
      "['apple', 'ape']\n"
     ]
    }
   ],
   "source": [
    "from difflib import get_close_matches\n",
    "\n",
    "def closeMatches(patterns, word): \n",
    "     print(get_close_matches(word, patterns)) \n",
    "        \n",
    "if __name__ == \"__main__\": \n",
    "    word = 'appel'\n",
    "    patterns = ['ape', 'apple', 'peach', 'puppy'] \n",
    "    closeMatches(patterns, word) "
   ]
  },
  {
   "cell_type": "markdown",
   "metadata": {},
   "source": [
    "# 18 Python program to find uncommon words from two Strings"
   ]
  },
  {
   "cell_type": "code",
   "execution_count": 8,
   "metadata": {},
   "outputs": [
    {
     "name": "stdout",
     "output_type": "stream",
     "text": [
      "['Learning', 'from']\n"
     ]
    }
   ],
   "source": [
    "# Input : A = \"Geeks for Geeks\" \n",
    "      #  B = \"Learning from Geeks for Geeks\"\n",
    "#Output : ['Learning', 'from']\n",
    "\n",
    "A = \"Geeks for Geeks\" \n",
    "B = \"Learning from Geeks for Geeks\"\n",
    "a=[]\n",
    "b=[]\n",
    "\n",
    "for i in A.split(' '):\n",
    "    a.append(i)\n",
    "for j in B.split(' '):\n",
    "    if j not in a:\n",
    "        b.append(j)\n",
    "print(b)\n",
    "            "
   ]
  },
  {
   "cell_type": "markdown",
   "metadata": {},
   "source": [
    "# 19 Python | Swap commas and dots in a String"
   ]
  },
  {
   "cell_type": "code",
   "execution_count": 38,
   "metadata": {},
   "outputs": [
    {
     "name": "stdout",
     "output_type": "stream",
     "text": [
      "14. 625. 498,002\n"
     ]
    }
   ],
   "source": [
    "#Input : 14, 625, 498.002\n",
    "#Output : 14.625.498, 002\n",
    "\n",
    "inp='14, 625, 498.002'\n",
    "oup=''\n",
    "for i in inp:\n",
    "    if i==',':\n",
    "        oup+='.'\n",
    "    elif i =='.':\n",
    "        oup+=','\n",
    "    else:\n",
    "        oup+=i\n",
    "print(oup)"
   ]
  },
  {
   "cell_type": "markdown",
   "metadata": {},
   "source": [
    "# 20 Python | Permutation of a given string using inbuilt function"
   ]
  },
  {
   "cell_type": "code",
   "execution_count": 52,
   "metadata": {},
   "outputs": [
    {
     "name": "stdout",
     "output_type": "stream",
     "text": [
      "Enter a string:ABC\n",
      "ABC\n",
      "ACB\n",
      "BAC\n",
      "BCA\n",
      "CAB\n",
      "CBA\n"
     ]
    }
   ],
   "source": [
    "from itertools import permutations\n",
    "\n",
    "inp=input('Enter a string:')\n",
    "per=permutations(inp)\n",
    "\n",
    "for i in list(per):\n",
    "    print(''.join(i))"
   ]
  },
  {
   "cell_type": "markdown",
   "metadata": {},
   "source": [
    "#  21 Python | Check for URL in a String"
   ]
  },
  {
   "cell_type": "code",
   "execution_count": 55,
   "metadata": {},
   "outputs": [
    {
     "name": "stdout",
     "output_type": "stream",
     "text": [
      "Urls:  ['https://auth.geeksforgeeks.org']\n"
     ]
    }
   ],
   "source": [
    "import re \n",
    "def Find(string): \n",
    "    url = re.findall('http[s]?://(?:[a-zA-Z]|[0-9]|[$-_@.&+]|[!*\\(\\), ]|(?:%[0-9a-fA-F][0-9a-fA-F]))+', string) \n",
    "    return url \n",
    "string = 'My Profile: https://auth.geeksforgeeks.org' \n",
    "print(\"Urls: \", Find(string)) "
   ]
  },
  {
   "cell_type": "markdown",
   "metadata": {},
   "source": [
    "# 22 Execute a String of Code in Python "
   ]
  },
  {
   "cell_type": "code",
   "execution_count": 56,
   "metadata": {},
   "outputs": [
    {
     "name": "stdout",
     "output_type": "stream",
     "text": [
      "120\n"
     ]
    }
   ],
   "source": [
    "def factorial(num): \n",
    "    fact=1 \n",
    "    for i in range(1,num+1): \n",
    "        fact = fact*i \n",
    "    return fact \n",
    "print(factorial(5))"
   ]
  },
  {
   "cell_type": "markdown",
   "metadata": {},
   "source": [
    "#  23 String slicing in Python to rotate a string"
   ]
  },
  {
   "cell_type": "code",
   "execution_count": 88,
   "metadata": {},
   "outputs": [
    {
     "name": "stdout",
     "output_type": "stream",
     "text": [
      "Enetr val:-2\n",
      "ksGeeksforGee\n"
     ]
    }
   ],
   "source": [
    "inp=\"GeeksforGeeks\"\n",
    "d=int(input('Enetr val:')) # for left rotation enter > 0 val for right rotation enter <0 val\n",
    "linp=inp[d::]\n",
    "for i in inp[:d]:\n",
    "    linp+=i\n",
    "print(linp)"
   ]
  },
  {
   "cell_type": "markdown",
   "metadata": {},
   "source": [
    "# 24 String slicing in Python to check if a string can become empty by recursive deletion"
   ]
  },
  {
   "cell_type": "code",
   "execution_count": 7,
   "metadata": {},
   "outputs": [
    {
     "ename": "SyntaxError",
     "evalue": "invalid syntax (<ipython-input-7-fd47ac1aecdd>, line 12)",
     "output_type": "error",
     "traceback": [
      "\u001b[1;36m  File \u001b[1;32m\"<ipython-input-7-fd47ac1aecdd>\"\u001b[1;36m, line \u001b[1;32m12\u001b[0m\n\u001b[1;33m    return True\u001b[0m\n\u001b[1;37m         ^\u001b[0m\n\u001b[1;31mSyntaxError\u001b[0m\u001b[1;31m:\u001b[0m invalid syntax\n"
     ]
    }
   ],
   "source": [
    "def checkEmpty(inp, pattern): \n",
    "      \n",
    "    if len(inp)== 0: \n",
    "         return 'false'\n",
    "    while (len(inp) != 0): \n",
    "        index = inp.find(pattern) \n",
    "        \n",
    "        if (index ==(-1)): \n",
    "              return 'false'\n",
    "        inp = inp[0:index] + inp[index + len(pattern):\n",
    "        \n",
    "    return True\n",
    "                                       \n",
    "                                       \n",
    "\n",
    "if__name__ == \"__main__\": \n",
    "                                 \n",
    "    inp = 'GEEKSGEEKS'\n",
    "    pattern ='GEEKS'\n",
    "    print checkEmpty(inp, pattern)                                    \n",
    "                                    "
   ]
  },
  {
   "cell_type": "markdown",
   "metadata": {},
   "source": [
    "#  25 Python Counter| Find all duplicate characters in string"
   ]
  },
  {
   "cell_type": "code",
   "execution_count": 7,
   "metadata": {},
   "outputs": [
    {
     "name": "stdout",
     "output_type": "stream",
     "text": [
      "Enter string:geeksforgeeks\n",
      "egeeks"
     ]
    }
   ],
   "source": [
    "from collections import Counter\n",
    "inp=input('Enter string:')\n",
    "val=[]\n",
    "for i in inp:\n",
    "    if i not in val:\n",
    "        val.append(i)\n",
    "    else:print(i ,end='')"
   ]
  },
  {
   "cell_type": "code",
   "execution_count": null,
   "metadata": {},
   "outputs": [],
   "source": []
  }
 ],
 "metadata": {
  "kernelspec": {
   "display_name": "Python 3",
   "language": "python",
   "name": "python3"
  },
  "language_info": {
   "codemirror_mode": {
    "name": "ipython",
    "version": 3
   },
   "file_extension": ".py",
   "mimetype": "text/x-python",
   "name": "python",
   "nbconvert_exporter": "python",
   "pygments_lexer": "ipython3",
   "version": "3.7.3"
  }
 },
 "nbformat": 4,
 "nbformat_minor": 2
}
