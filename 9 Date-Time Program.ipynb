{
 "cells": [
  {
   "cell_type": "markdown",
   "metadata": {},
   "source": [
    "# Python program to convert time from 12 hour to 24 hour format"
   ]
  },
  {
   "cell_type": "code",
   "execution_count": 2,
   "metadata": {},
   "outputs": [],
   "source": [
    "# Given a time in 12-hour AM/PM format, convert it to military (24-hour) time.\n",
    "# Midnight is 12:00:00 AM on a 12-hour clock and 00:00:00 on a 24-hour clock\n",
    "# Noon is 12:00:00 PM on 12-hour clock and 12:00:00 on 24-hour clock."
   ]
  },
  {
   "cell_type": "code",
   "execution_count": 2,
   "metadata": {},
   "outputs": [
    {
     "name": "stdout",
     "output_type": "stream",
     "text": [
      "Enter Hrs:04\n",
      "Enter Mins:30\n",
      "Enter secs:05\n",
      "Enter AM/PM:pm\n",
      "16 : 30: 05 pm\n"
     ]
    }
   ],
   "source": [
    "hrs=int(input('Enter Hrs:'))\n",
    "mins=(input('Enter Mins:'))\n",
    "secs=(input('Enter secs:'))\n",
    "ces = input('Enter AM/PM:')\n",
    "\n",
    "if ces=='pm':\n",
    "    if hrs<12:\n",
    "        hrs=12+hrs\n",
    "        print( '{} : {}: {} {}'.format(hrs,mins,secs,ces))\n",
    "    else:print( '{} : {}: {} {}'.format(hrs,mins,secs,ces))\n",
    "\n",
    "elif ces== 'am':\n",
    "    if hrs==12:\n",
    "        hrs=0\n",
    "        print( '{} : {}: {} {}'.format(hrs,mins,secs,ces))\n",
    "    else:print( '{} : {}: {} {}'.format(hrs,mins,secs,ces))"
   ]
  },
  {
   "cell_type": "code",
   "execution_count": 1,
   "metadata": {},
   "outputs": [
    {
     "name": "stdout",
     "output_type": "stream",
     "text": [
      "4\n",
      "4\n",
      "5\n",
      "6\n",
      "6\n",
      "6\n"
     ]
    }
   ],
   "source": [
    "lst=[4,5,6,7]\n",
    "k=lst[-1]\n",
    "\n",
    "for i in range(len(lst)):\n",
    "    num=(lst[i])\n",
    "    for j in range(2,k):\n",
    "        if lst[i]%j==0:\n",
    "            print(lst[i])\n",
    "            \n"
   ]
  },
  {
   "cell_type": "markdown",
   "metadata": {},
   "source": [
    "# Print the next date  without using datetime module"
   ]
  },
  {
   "cell_type": "code",
   "execution_count": 2,
   "metadata": {},
   "outputs": [
    {
     "name": "stdout",
     "output_type": "stream",
     "text": [
      "Enter date:30\n",
      "Enter month :11\n",
      "Enter year:2002\n",
      "It is Non-Leap Year\n",
      "1 - 12 - 2002\n"
     ]
    }
   ],
   "source": [
    "def next_day(day,month,year):\n",
    "    mon=[1,3,5,7,8,10]\n",
    "    mo=[4,6,9,11]\n",
    "    if year%4==0:\n",
    "            if year%100==0 and year%400!=0:\n",
    "                print('It is century year butnot a Leap year')\n",
    "            elif year%100==0 and year%400==0:\n",
    "                print('It is century Leap year')\n",
    "            else: \n",
    "                print('It is Leap year')\n",
    "    elif year%4!=0:\n",
    "        print('It is Non-Leap Year')\n",
    "    \n",
    "    if month in mo:\n",
    "        if day==30:\n",
    "            day=1\n",
    "            month+=1\n",
    "            print(day,'-',month,'-',year)\n",
    "        elif day>=31:\n",
    "            print('This month has only 30 days')\n",
    "        elif day<30:\n",
    "            day+=1\n",
    "            print(day,'-',month,'-',year)\n",
    "    elif month in mon:\n",
    "        if day==31:\n",
    "            day=1\n",
    "            month+=1\n",
    "            print(day,'-',month,'-',year)\n",
    "        elif day>=32:\n",
    "            print('This month has only 31 days')\n",
    "        elif day<31:\n",
    "            day+=1\n",
    "            print(day,'-',month,'-',year)\n",
    "    elif month==12:\n",
    "        if day==31:\n",
    "            day=1\n",
    "            month=1\n",
    "            year+=1\n",
    "            print(day,'-',month,'-',year)\n",
    "        elif day>32:\n",
    "            print('This month has only 31 days')\n",
    "        elif day<31:\n",
    "            day+=1\n",
    "            print(day,'-',month,'-',year)\n",
    "    elif month==2:\n",
    "        if year%4==0:\n",
    "            \n",
    "            if day==29:\n",
    "                day=1\n",
    "                month+=1\n",
    "                print(day,'-',month,'-',year)\n",
    "            elif day>29:\n",
    "                print('This month has only 29 days')\n",
    "            elif day<29:\n",
    "                day+=1\n",
    "                print(day,'-',month,'-',year)\n",
    "                    \n",
    "        elif year %4!=0:\n",
    "            if day==28:\n",
    "                day=1\n",
    "                month+=1\n",
    "                print(day,'-',month,'-',year)\n",
    "            \n",
    "            elif day>28:\n",
    "                print('This month has 28 days only')\n",
    "            \n",
    "            elif day<28:\n",
    "                day+=1\n",
    "                print(day,'-',month,'-',year)    \n",
    "    else: print('Please enter The correct input')\n",
    "        \n",
    "\n",
    "            \n",
    "        \n",
    "   \n",
    "\n",
    "day=int(input('Enter date:'))\n",
    "month=int(input('Enter month :'))\n",
    "year=int(input('Enter year:'))\n",
    "next_day(day,month,year)\n"
   ]
  },
  {
   "cell_type": "code",
   "execution_count": null,
   "metadata": {},
   "outputs": [],
   "source": []
  }
 ],
 "metadata": {
  "kernelspec": {
   "display_name": "Python 3",
   "language": "python",
   "name": "python3"
  },
  "language_info": {
   "codemirror_mode": {
    "name": "ipython",
    "version": 3
   },
   "file_extension": ".py",
   "mimetype": "text/x-python",
   "name": "python",
   "nbconvert_exporter": "python",
   "pygments_lexer": "ipython3",
   "version": "3.7.3"
  }
 },
 "nbformat": 4,
 "nbformat_minor": 2
}
